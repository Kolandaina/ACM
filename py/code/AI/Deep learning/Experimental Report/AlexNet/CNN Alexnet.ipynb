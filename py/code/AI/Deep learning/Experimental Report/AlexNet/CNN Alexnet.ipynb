{
  "nbformat": 4,
  "nbformat_minor": 0,
  "metadata": {
    "colab": {
      "name": "18BCS6019_DL_5&6.ipynb",
      "provenance": [],
      "toc_visible": true
    },
    "kernelspec": {
      "name": "python3",
      "display_name": "Python 3"
    },
    "language_info": {
      "name": "python"
    }
  },
  "cells": [
    {
      "cell_type": "markdown",
      "metadata": {
        "id": "GGbA7lDnrHAD"
      },
      "source": [
        "### Kinshuk Jagdev\n",
        "\n",
        "\n",
        "**AIM:**\n",
        "You are required to develop a Convolution neural network which should correctly classify the handwritten digits from 0-9 based on the pixel values given as features. Thus, this is a 10-class classification problem."
      ]
    },
    {
      "cell_type": "markdown",
      "metadata": {
        "id": "RENZboiarUcV"
      },
      "source": [
        "## Loading Dataset and Importing Libraries"
      ]
    },
    {
      "cell_type": "code",
      "metadata": {
        "id": "k-mgIGACotuo"
      },
      "source": [
        "import numpy as np\n",
        "import random\n",
        "import keras\n",
        "from keras.datasets import mnist\n",
        "from keras.models import Sequential\n",
        "from keras.layers import Dense, Dropout, Flatten\n",
        "from keras.layers import Conv2D, MaxPooling2D \n",
        "from keras import backend as K\n",
        "from keras.utils import np_utils\n",
        "import matplotlib.pyplot as plt"
      ],
      "execution_count": null,
      "outputs": []
    },
    {
      "cell_type": "markdown",
      "metadata": {
        "id": "odX0F6pStdWR"
      },
      "source": [
        "#Data Used: MNIST\n",
        "\n",
        "Splitting Training and Testing Data "
      ]
    },
    {
      "cell_type": "code",
      "metadata": {
        "id": "b4WiZ6Z-tdEi"
      },
      "source": [
        "(x_train, y_train), (x_test, y_test) = mnist.load_data()"
      ],
      "execution_count": null,
      "outputs": []
    },
    {
      "cell_type": "code",
      "metadata": {
        "colab": {
          "base_uri": "https://localhost:8080/"
        },
        "id": "iZdWqp2stryy",
        "outputId": "6ad950f7-fe3b-4749-cdbb-5b88cc9149b1"
      },
      "source": [
        "#Printing the shape of training dataset\n",
        "print(x_train.shape)\n",
        "print(y_train.shape)"
      ],
      "execution_count": null,
      "outputs": [
        {
          "output_type": "stream",
          "text": [
            "(60000, 28, 28)\n",
            "(60000,)\n"
          ],
          "name": "stdout"
        }
      ]
    },
    {
      "cell_type": "code",
      "metadata": {
        "colab": {
          "base_uri": "https://localhost:8080/"
        },
        "id": "ldWBjQ7sty5J",
        "outputId": "3df2fe9a-8342-4125-aff4-fe6922156083"
      },
      "source": [
        "#Printing the shape of testing dataset\n",
        "print(x_test.shape)\n",
        "print(y_test.shape)"
      ],
      "execution_count": null,
      "outputs": [
        {
          "output_type": "stream",
          "text": [
            "(10000, 28, 28)\n",
            "(10000,)\n"
          ],
          "name": "stdout"
        }
      ]
    },
    {
      "cell_type": "markdown",
      "metadata": {
        "id": "O_nJl0lft8vj"
      },
      "source": [
        "### Data Size Reduction as Data size is large"
      ]
    },
    {
      "cell_type": "code",
      "metadata": {
        "colab": {
          "base_uri": "https://localhost:8080/"
        },
        "id": "EhkN4n9Zt2tR",
        "outputId": "a726caec-b4a5-4fde-82b0-2b80c05970d5"
      },
      "source": [
        "sam = np.random.randint(x_train.shape[0], size=25000) # sample 20k indices from 0-60\n",
        "x_train = x_train[sam, :]\n",
        "y_train = y_train[sam]\n",
        "print(x_train.shape)\n",
        "print(y_train.shape)"
      ],
      "execution_count": null,
      "outputs": [
        {
          "output_type": "stream",
          "text": [
            "(25000, 28, 28)\n",
            "(25000,)\n"
          ],
          "name": "stdout"
        }
      ]
    },
    {
      "cell_type": "markdown",
      "metadata": {
        "id": "uqYJ1Jt5ufIg"
      },
      "source": [
        "## Reshaping Data"
      ]
    },
    {
      "cell_type": "code",
      "metadata": {
        "id": "-pxf9stTuEKt"
      },
      "source": [
        "x_train = x_train.reshape(x_train.shape[0], 28, 28, 1)\n",
        "\n",
        "x_test = x_test.reshape(x_test.shape[0], 28, 28, 1)"
      ],
      "execution_count": null,
      "outputs": []
    },
    {
      "cell_type": "markdown",
      "metadata": {
        "id": "VBlNtIEAu1IE"
      },
      "source": [
        "Data Conversion to float as it is considered better"
      ]
    },
    {
      "cell_type": "code",
      "metadata": {
        "id": "6mSQdrLGupxv"
      },
      "source": [
        "x_train = x_train.astype('float32')\n",
        "\n",
        "x_test = x_test.astype('float32')"
      ],
      "execution_count": null,
      "outputs": []
    },
    {
      "cell_type": "markdown",
      "metadata": {
        "id": "peak5uGjvEFy"
      },
      "source": [
        "### Viewing New Modified Data"
      ]
    },
    {
      "cell_type": "code",
      "metadata": {
        "colab": {
          "base_uri": "https://localhost:8080/"
        },
        "id": "cvr44qsKvA56",
        "outputId": "f8c1cd71-a87a-4f39-a267-97fa31673731"
      },
      "source": [
        "print(x_train.shape)\n",
        "print(y_train.shape)"
      ],
      "execution_count": null,
      "outputs": [
        {
          "output_type": "stream",
          "text": [
            "(25000, 28, 28, 1)\n",
            "(25000,)\n"
          ],
          "name": "stdout"
        }
      ]
    },
    {
      "cell_type": "code",
      "metadata": {
        "colab": {
          "base_uri": "https://localhost:8080/"
        },
        "id": "dm1YuM_VvSie",
        "outputId": "c9bf7d28-c10c-4d97-82e7-133ded334696"
      },
      "source": [
        "print(\"New Test Data Shape\")\n",
        "print(x_test.shape)\n",
        "print(y_test.shape)"
      ],
      "execution_count": null,
      "outputs": [
        {
          "output_type": "stream",
          "text": [
            "New Test Data Shape\n",
            "(10000, 28, 28, 1)\n",
            "(10000,)\n"
          ],
          "name": "stdout"
        }
      ]
    },
    {
      "cell_type": "markdown",
      "metadata": {
        "id": "HPMy2VtSwZbd"
      },
      "source": [
        "### One-Hot Encoding\n",
        "\n",
        "Even though we have data, we can't directiy feed it into the network, that is why we have to perform ont-hot encoding.\n",
        "\n",
        "Function used: **np_utils.to_categorical()**"
      ]
    },
    {
      "cell_type": "code",
      "metadata": {
        "colab": {
          "base_uri": "https://localhost:8080/"
        },
        "id": "GN2jb_McvVcu",
        "outputId": "12aadf15-2b6d-40e1-c566-3b8302ab2f62"
      },
      "source": [
        "n_classes = 10 #as predicting classes are 0-9(total 10)\n",
        "print(\"Shape before one-hot encoding: \", y_train.shape)\n",
        "y_train = np_utils.to_categorical(y_train, n_classes)\n",
        "y_test = np_utils.to_categorical(y_test, n_classes)\n",
        "print(\"Shape after one-hot encoding: \", y_train.shape)"
      ],
      "execution_count": null,
      "outputs": [
        {
          "output_type": "stream",
          "text": [
            "Shape before one-hot encoding:  (25000,)\n",
            "Shape after one-hot encoding:  (25000, 10)\n"
          ],
          "name": "stdout"
        }
      ]
    },
    {
      "cell_type": "markdown",
      "metadata": {
        "id": "0e-IPR9zxppg"
      },
      "source": [
        "## CNN Model Building\n",
        "\n",
        "#### Model Specifications\n",
        "1. Padding Used: **Same Padding**.\n",
        "2. Activation Function for output: **Softmax**\n",
        "3. Layers: 10\n",
        "4. Model Type: **Sequential CNN** \n",
        "5. Non-Linearitry Function: **Relu**"
      ]
    },
    {
      "cell_type": "code",
      "metadata": {
        "id": "3-qcCl6xw9nn"
      },
      "source": [
        "model = Sequential()"
      ],
      "execution_count": null,
      "outputs": []
    },
    {
      "cell_type": "markdown",
      "metadata": {
        "id": "hKEfbx-F-1Pk"
      },
      "source": [
        "Adding Convulational Layers"
      ]
    },
    {
      "cell_type": "code",
      "metadata": {
        "id": "MnFsgTqf-5b1"
      },
      "source": [
        "model.add(Conv2D(8, kernel_size=(3, 3), padding='same',activation='relu', input_shape=(28, 28, 1)))"
      ],
      "execution_count": null,
      "outputs": []
    },
    {
      "cell_type": "code",
      "metadata": {
        "id": "61A2EbAP_HlH"
      },
      "source": [
        "model.add(MaxPooling2D(pool_size=(2,2)))"
      ],
      "execution_count": null,
      "outputs": []
    },
    {
      "cell_type": "code",
      "metadata": {
        "id": "93tVElr5_Pu2"
      },
      "source": [
        "model.add(Conv2D(16, kernel_size=(3, 3), padding='same',activation='relu'))"
      ],
      "execution_count": null,
      "outputs": []
    },
    {
      "cell_type": "code",
      "metadata": {
        "id": "KJSOg3KL_Txk"
      },
      "source": [
        "model.add(MaxPooling2D(pool_size=(2,2)))"
      ],
      "execution_count": null,
      "outputs": []
    },
    {
      "cell_type": "code",
      "metadata": {
        "id": "B1pvwBsT_Xpn"
      },
      "source": [
        "model.add(Conv2D(32, kernel_size=(3, 3), padding='same',activation='relu'))"
      ],
      "execution_count": null,
      "outputs": []
    },
    {
      "cell_type": "code",
      "metadata": {
        "id": "pBhHfAcj_eZ8"
      },
      "source": [
        "model.add(MaxPooling2D(pool_size=(2,2)))"
      ],
      "execution_count": null,
      "outputs": []
    },
    {
      "cell_type": "markdown",
      "metadata": {
        "id": "BEOL3oc1_uWJ"
      },
      "source": [
        "Using Flatten on model"
      ]
    },
    {
      "cell_type": "code",
      "metadata": {
        "id": "4phWcXlV_v9H"
      },
      "source": [
        "model.add(Flatten())"
      ],
      "execution_count": null,
      "outputs": []
    },
    {
      "cell_type": "markdown",
      "metadata": {
        "id": "mc9gn9yi_2Ax"
      },
      "source": [
        "Adding Fully Connected Layers"
      ]
    },
    {
      "cell_type": "code",
      "metadata": {
        "id": "tAh3LjRI_m6_"
      },
      "source": [
        "model.add(Dense(256, activation='relu'))"
      ],
      "execution_count": null,
      "outputs": []
    },
    {
      "cell_type": "code",
      "metadata": {
        "id": "VTFxUzWkAFnH"
      },
      "source": [
        "model.add(Dense(256, activation='relu'))"
      ],
      "execution_count": null,
      "outputs": []
    },
    {
      "cell_type": "markdown",
      "metadata": {
        "id": "hXthU4jvANi4"
      },
      "source": [
        "Final Output Layer Using Softmax, Using 10 outputs as MNIST has 10 digits"
      ]
    },
    {
      "cell_type": "code",
      "metadata": {
        "id": "XiQl364vAMj0"
      },
      "source": [
        "model.add(Dense(10, activation='softmax'))"
      ],
      "execution_count": null,
      "outputs": []
    },
    {
      "cell_type": "markdown",
      "metadata": {
        "id": "Z8veM-shAjbW"
      },
      "source": [
        "## Viewing the built model"
      ]
    },
    {
      "cell_type": "code",
      "metadata": {
        "colab": {
          "base_uri": "https://localhost:8080/",
          "height": 1000
        },
        "id": "jZSPxiAdAIat",
        "outputId": "3c64b4b5-1ab6-4e92-9196-1bdc8a979523"
      },
      "source": [
        "# Plotting model \n",
        "from keras.utils import plot_model\n",
        "plot_model(model,to_file='model_plot.png',show_shapes=False,show_layer_names=True)"
      ],
      "execution_count": null,
      "outputs": [
        {
          "output_type": "execute_result",
          "data": {
            "image/png": "[encoded data removed]",
            "text/plain": [
              "<IPython.core.display.Image object>"
            ]
          },
          "metadata": {
            "tags": []
          },
          "execution_count": 35
        }
      ]
    },
    {
      "cell_type": "code",
      "metadata": {
        "colab": {
          "base_uri": "https://localhost:8080/"
        },
        "id": "jLxHqlKIAq3g",
        "outputId": "ef7302ae-40ac-4cfb-8d9f-c6081ded14d7"
      },
      "source": [
        "model.summary()"
      ],
      "execution_count": null,
      "outputs": [
        {
          "output_type": "stream",
          "text": [
            "Model: \"sequential\"\n",
            "_________________________________________________________________\n",
            "Layer (type)                 Output Shape              Param #   \n",
            "=================================================================\n",
            "conv2d (Conv2D)              (None, 28, 28, 8)         80        \n",
            "_________________________________________________________________\n",
            "max_pooling2d (MaxPooling2D) (None, 14, 14, 8)         0         \n",
            "_________________________________________________________________\n",
            "conv2d_1 (Conv2D)            (None, 14, 14, 16)        1168      \n",
            "_________________________________________________________________\n",
            "max_pooling2d_1 (MaxPooling2 (None, 7, 7, 16)          0         \n",
            "_________________________________________________________________\n",
            "conv2d_2 (Conv2D)            (None, 7, 7, 32)          4640      \n",
            "_________________________________________________________________\n",
            "max_pooling2d_2 (MaxPooling2 (None, 3, 3, 32)          0         \n",
            "_________________________________________________________________\n",
            "flatten (Flatten)            (None, 288)               0         \n",
            "_________________________________________________________________\n",
            "dense (Dense)                (None, 256)               73984     \n",
            "_________________________________________________________________\n",
            "dense_1 (Dense)              (None, 256)               65792     \n",
            "_________________________________________________________________\n",
            "dense_2 (Dense)              (None, 10)                2570      \n",
            "=================================================================\n",
            "Total params: 148,234\n",
            "Trainable params: 148,234\n",
            "Non-trainable params: 0\n",
            "_________________________________________________________________\n"
          ],
          "name": "stdout"
        }
      ]
    },
    {
      "cell_type": "markdown",
      "metadata": {
        "id": "BZkS5aMFA9k1"
      },
      "source": [
        "## Compiling and Fitting the model"
      ]
    },
    {
      "cell_type": "markdown",
      "metadata": {
        "id": "5WgPUxgfBJ4P"
      },
      "source": [
        "1. Loss: Cross Entropy\n",
        "2. Optimizer: Adam\n",
        "3. Epoches: 10"
      ]
    },
    {
      "cell_type": "code",
      "metadata": {
        "id": "fHIcww4cA1GU"
      },
      "source": [
        "model.compile(loss='categorical_crossentropy', metrics=['accuracy'], optimizer='adam')"
      ],
      "execution_count": null,
      "outputs": []
    },
    {
      "cell_type": "code",
      "metadata": {
        "colab": {
          "base_uri": "https://localhost:8080/"
        },
        "id": "DOYRioHaBZYx",
        "outputId": "7562dc5f-812d-4d4e-b3e4-afe47acc4832"
      },
      "source": [
        "history = model.fit(x_train, y_train, batch_size=200, epochs=10, validation_data=(x_test, y_test))"
      ],
      "execution_count": null,
      "outputs": [
        {
          "output_type": "stream",
          "text": [
            "Epoch 1/10\n",
            "125/125 [==============================] - 12s 90ms/step - loss: 4.0227 - accuracy: 0.5965 - val_loss: 0.2151 - val_accuracy: 0.9338\n",
            "Epoch 2/10\n",
            "125/125 [==============================] - 12s 94ms/step - loss: 0.1601 - accuracy: 0.9509 - val_loss: 0.1465 - val_accuracy: 0.9550\n",
            "Epoch 3/10\n",
            "125/125 [==============================] - 12s 92ms/step - loss: 0.0911 - accuracy: 0.9705 - val_loss: 0.1195 - val_accuracy: 0.9627\n",
            "Epoch 4/10\n",
            "125/125 [==============================] - 12s 93ms/step - loss: 0.0691 - accuracy: 0.9778 - val_loss: 0.1216 - val_accuracy: 0.9622\n",
            "Epoch 5/10\n",
            "125/125 [==============================] - 12s 92ms/step - loss: 0.0404 - accuracy: 0.9872 - val_loss: 0.1038 - val_accuracy: 0.9682\n",
            "Epoch 6/10\n",
            "125/125 [==============================] - 12s 94ms/step - loss: 0.0270 - accuracy: 0.9920 - val_loss: 0.0883 - val_accuracy: 0.9744\n",
            "Epoch 7/10\n",
            "125/125 [==============================] - 12s 94ms/step - loss: 0.0224 - accuracy: 0.9934 - val_loss: 0.0829 - val_accuracy: 0.9753\n",
            "Epoch 8/10\n",
            "125/125 [==============================] - 12s 94ms/step - loss: 0.0141 - accuracy: 0.9960 - val_loss: 0.0870 - val_accuracy: 0.9756\n",
            "Epoch 9/10\n",
            "125/125 [==============================] - 11s 91ms/step - loss: 0.0077 - accuracy: 0.9980 - val_loss: 0.0951 - val_accuracy: 0.9759\n",
            "Epoch 10/10\n",
            "125/125 [==============================] - 12s 93ms/step - loss: 0.0141 - accuracy: 0.9956 - val_loss: 0.0993 - val_accuracy: 0.9740\n"
          ],
          "name": "stdout"
        }
      ]
    },
    {
      "cell_type": "markdown",
      "metadata": {
        "id": "KqILgz0kBmJA"
      },
      "source": [
        "Model Accuracy: %"
      ]
    },
    {
      "cell_type": "markdown",
      "metadata": {
        "id": "Ym4rM5ziBvBK"
      },
      "source": [
        "## Model Evaluation"
      ]
    },
    {
      "cell_type": "code",
      "metadata": {
        "id": "vTu8_IlXBuMf"
      },
      "source": [
        "acc = history.history['accuracy']\n",
        "val_acc = history.history['val_accuracy']\n",
        "loss = history.history['loss']"
      ],
      "execution_count": null,
      "outputs": []
    },
    {
      "cell_type": "markdown",
      "metadata": {
        "id": "DLzoBBUzCE4e"
      },
      "source": [
        "Training and Validation Accuracy"
      ]
    },
    {
      "cell_type": "code",
      "metadata": {
        "colab": {
          "base_uri": "https://localhost:8080/",
          "height": 297
        },
        "id": "z81jQ5RFBhDC",
        "outputId": "d391f901-f1c2-4e2c-a1fa-295f2860aa55"
      },
      "source": [
        "epochs = range(1, len(acc) + 1)\n",
        "plt.plot(epochs, acc, 'r--', label='Training acc')\n",
        "plt.plot(epochs, val_acc, 'b', label='Validation acc')\n",
        "plt.title('Training and validation accuracy')\n",
        "plt.legend() "
      ],
      "execution_count": null,
      "outputs": [
        {
          "output_type": "execute_result",
          "data": {
            "text/plain": [
              "<matplotlib.legend.Legend at 0x7fe014df72d0>"
            ]
          },
          "metadata": {
            "tags": []
          },
          "execution_count": 40
        },
        {
          "output_type": "display_data",
          "data": {
            "image/png": "[encoded data removed]",
            "text/plain": [
              "<Figure size 432x288 with 1 Axes>"
            ]
          },
          "metadata": {
            "tags": [],
            "needs_background": "light"
          }
        }
      ]
    },
    {
      "cell_type": "markdown",
      "metadata": {
        "id": "Dn0BNXZcCfdu"
      },
      "source": [
        "Training and Accuracy Loss"
      ]
    },
    {
      "cell_type": "code",
      "metadata": {
        "colab": {
          "base_uri": "https://localhost:8080/",
          "height": 281
        },
        "id": "rr-Ux7qfCLBc",
        "outputId": "94f49e37-8d6c-49e3-d1a6-497634c76e13"
      },
      "source": [
        "plt.plot(epochs, loss, 'r--', label='loss')\n",
        "plt.plot(epochs, acc, 'b', label='Accuracy')\n",
        "plt.title('Training Accuracy and loss')\n",
        "plt.legend()\n",
        "\n",
        "plt.show()"
      ],
      "execution_count": null,
      "outputs": [
        {
          "output_type": "display_data",
          "data": {
            "image/png": "[encoded data removed]",
            "text/plain": [
              "<Figure size 432x288 with 1 Axes>"
            ]
          },
          "metadata": {
            "tags": [],
            "needs_background": "light"
          }
        }
      ]
    },
    {
      "cell_type": "markdown",
      "metadata": {
        "id": "Sople0RqCVwa"
      },
      "source": [
        "Training and Testing Loss"
      ]
    },
    {
      "cell_type": "code",
      "metadata": {
        "colab": {
          "base_uri": "https://localhost:8080/",
          "height": 278
        },
        "id": "dLLqF6lUCYBk",
        "outputId": "3440eeb1-bfb8-44e7-9dd5-803244eced2e"
      },
      "source": [
        "training_loss = history.history['loss']\n",
        "test_loss = history.history['val_loss']\n",
        "\n",
        "# Create count of the number of epochs\n",
        "epoch_count = range(1, len(training_loss) + 1)\n",
        "\n",
        "# Visualize loss history\n",
        "plt.plot(epoch_count, training_loss, 'r--')\n",
        "plt.plot(epoch_count, test_loss, 'b-')\n",
        "plt.legend(['Training Loss', 'Test Loss'])\n",
        "plt.xlabel('Epoch')\n",
        "plt.ylabel('Loss')\n",
        "plt.show();"
      ],
      "execution_count": null,
      "outputs": [
        {
          "output_type": "display_data",
          "data": {
            "image/png": "[encoded data removed]",
            "text/plain": [
              "<Figure size 432x288 with 1 Axes>"
            ]
          },
          "metadata": {
            "tags": [],
            "needs_background": "light"
          }
        }
      ]
    },
    {
      "cell_type": "markdown",
      "metadata": {
        "id": "Q0VTePZlCzdp"
      },
      "source": [
        "## Train vs Test Evaluation"
      ]
    },
    {
      "cell_type": "code",
      "metadata": {
        "colab": {
          "base_uri": "https://localhost:8080/",
          "height": 443
        },
        "id": "sPUxuMpgCyCy",
        "outputId": "af5d3bb7-f7c1-4f47-bad4-dbbd23438b17"
      },
      "source": [
        "#predict first 6 images in the test set\n",
        "abc = model.predict(x_test[:6])\n",
        "print(abc)\n",
        "plt.imshow(abc, cmap = plt.cm.binary)\n",
        "plt.show()"
      ],
      "execution_count": null,
      "outputs": [
        {
          "output_type": "stream",
          "text": [
            "[[2.1247957e-11 3.7857342e-11 8.3450704e-09 1.5857514e-10 4.6790799e-13\n",
            "  8.0388257e-13 1.0780155e-17 1.0000000e+00 1.9747466e-13 3.0271249e-10]\n",
            " [6.2004796e-13 3.3276553e-06 9.9999666e-01 1.7234893e-10 2.1014584e-13\n",
            "  7.6228368e-13 4.5216540e-14 6.2496645e-15 2.6870797e-12 2.0454020e-18]\n",
            " [2.2665751e-11 1.0000000e+00 7.2740811e-12 4.0048442e-15 1.0919408e-09\n",
            "  4.1453898e-12 1.6711506e-10 8.0721946e-10 3.1105474e-10 2.1131760e-11]\n",
            " [9.9463046e-01 1.7856869e-09 9.9016179e-06 4.0988337e-07 6.8383082e-07\n",
            "  5.1797666e-05 1.3262876e-05 1.8911758e-06 4.7624549e-03 5.2922423e-04]\n",
            " [1.9805159e-15 3.9396448e-14 6.5540123e-15 3.7417513e-22 1.0000000e+00\n",
            "  4.5931813e-18 6.3563665e-15 1.5596277e-14 2.5860831e-14 1.2485135e-09]\n",
            " [1.6733074e-13 1.0000000e+00 4.9204130e-13 2.0759555e-18 1.4914204e-11\n",
            "  4.0407529e-15 3.3594517e-13 8.7847654e-12 6.3312684e-12 4.1088069e-13]]\n"
          ],
          "name": "stdout"
        },
        {
          "output_type": "display_data",
          "data": {
            "image/png": "[encoded data removed]",
            "text/plain": [
              "<Figure size 432x288 with 1 Axes>"
            ]
          },
          "metadata": {
            "tags": [],
            "needs_background": "light"
          }
        }
      ]
    },
    {
      "cell_type": "code",
      "metadata": {
        "colab": {
          "base_uri": "https://localhost:8080/",
          "height": 346
        },
        "id": "2_qDi61yClQI",
        "outputId": "ca0895bb-05c2-4929-b20e-d2fd7805bacf"
      },
      "source": [
        "#actual results for first 6 images in test set\n",
        "td = y_test[:6]\n",
        "print(td)\n",
        "plt.imshow(td, cmap = plt.cm.binary)\n",
        "plt.show()"
      ],
      "execution_count": null,
      "outputs": [
        {
          "output_type": "stream",
          "text": [
            "[[0. 0. 0. 0. 0. 0. 0. 1. 0. 0.]\n",
            " [0. 0. 1. 0. 0. 0. 0. 0. 0. 0.]\n",
            " [0. 1. 0. 0. 0. 0. 0. 0. 0. 0.]\n",
            " [1. 0. 0. 0. 0. 0. 0. 0. 0. 0.]\n",
            " [0. 0. 0. 0. 1. 0. 0. 0. 0. 0.]\n",
            " [0. 1. 0. 0. 0. 0. 0. 0. 0. 0.]]\n"
          ],
          "name": "stdout"
        },
        {
          "output_type": "display_data",
          "data": {
            "image/png": "[encoded data removed]",
            "text/plain": [
              "<Figure size 432x288 with 1 Axes>"
            ]
          },
          "metadata": {
            "tags": [],
            "needs_background": "light"
          }
        }
      ]
    },
    {
      "cell_type": "markdown",
      "metadata": {
        "id": "tpj040RYDYtW"
      },
      "source": [
        "### Conclusion\n",
        "The Model is working as expected, and is yielding good results. This is the best model we could build at the moment, however we recognize that better approaches are available."
      ]
    }
  ]
}