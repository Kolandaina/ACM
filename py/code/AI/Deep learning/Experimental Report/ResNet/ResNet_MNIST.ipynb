{
  "cells": [
    {
      "cell_type": "markdown",
      "metadata": {
        "colab_type": "text",
        "id": "view-in-github"
      },
      "source": [
        "<a href=\"https://colab.research.google.com/github/ch0uchou/Resnet50-MNIST/blob/main/ResNet_MNIST.ipynb\" target=\"_parent\"><img src=\"https://colab.research.google.com/assets/colab-badge.svg\" alt=\"Open In Colab\"/></a>"
      ]
    },
    {
      "cell_type": "markdown",
      "metadata": {
        "id": "aWwV-DzjtM_3"
      },
      "source": [
        "#Model Resnet50"
      ]
    },
    {
      "cell_type": "code",
      "execution_count": 1,
      "metadata": {
        "colab": {
          "base_uri": "https://localhost:8080/"
        },
        "id": "BynKicD2tPmP",
        "outputId": "1edc5ebe-ef5e-4963-bdee-73c08d44430c"
      },
      "outputs": [
        {
          "name": "stdout",
          "output_type": "stream",
          "text": [
            "Downloading data from https://storage.googleapis.com/tensorflow/tf-keras-datasets/mnist.npz\n",
            "11493376/11490434 [==============================] - 9s 1us/step\n",
            "11501568/11490434 [==============================] - 9s 1us/step\n",
            "Epoch 1/10\n",
            "1875/1875 [==============================] - 217s 111ms/step - loss: 0.1903 - accuracy: 0.9494 - val_loss: 0.0868 - val_accuracy: 0.9787\n",
            "Epoch 2/10\n",
            "1875/1875 [==============================] - 207s 111ms/step - loss: 0.0736 - accuracy: 0.9792 - val_loss: 0.2869 - val_accuracy: 0.9320\n",
            "Epoch 3/10\n",
            "1875/1875 [==============================] - 207s 111ms/step - loss: 0.0587 - accuracy: 0.9828 - val_loss: 0.1177 - val_accuracy: 0.9702\n",
            "Epoch 4/10\n",
            "1875/1875 [==============================] - 207s 110ms/step - loss: 0.0525 - accuracy: 0.9844 - val_loss: 0.0450 - val_accuracy: 0.9854\n",
            "Epoch 5/10\n",
            "1875/1875 [==============================] - 207s 110ms/step - loss: 0.0417 - accuracy: 0.9872 - val_loss: 0.0486 - val_accuracy: 0.9859\n",
            "Epoch 6/10\n",
            "1875/1875 [==============================] - 208s 111ms/step - loss: 0.0369 - accuracy: 0.9890 - val_loss: 0.0381 - val_accuracy: 0.9877\n",
            "Epoch 7/10\n",
            "1875/1875 [==============================] - 207s 111ms/step - loss: 0.0302 - accuracy: 0.9909 - val_loss: 0.0251 - val_accuracy: 0.9910\n",
            "Epoch 8/10\n",
            "1875/1875 [==============================] - 207s 111ms/step - loss: 0.0265 - accuracy: 0.9918 - val_loss: 0.0382 - val_accuracy: 0.9875\n",
            "Epoch 9/10\n",
            "1875/1875 [==============================] - 207s 110ms/step - loss: 0.0237 - accuracy: 0.9926 - val_loss: 0.0282 - val_accuracy: 0.9925\n",
            "Epoch 10/10\n",
            "1875/1875 [==============================] - 207s 110ms/step - loss: 0.0191 - accuracy: 0.9942 - val_loss: 0.0632 - val_accuracy: 0.9793\n"
          ]
        },
        {
          "name": "stderr",
          "output_type": "stream",
          "text": [
            "d:\\1-programme\\porgramme\\anaconda\\envs\\test1\\lib\\site-packages\\keras\\engine\\functional.py:1410: CustomMaskWarning: Custom mask layers require a config and must override get_config. When loading, the custom mask layer must be passed to the custom_objects argument.\n",
            "  layer_config = serialize_layer_fn(layer)\n"
          ]
        },
        {
          "name": "stdout",
          "output_type": "stream",
          "text": [
            "Model saved as mnist_resnet50.h5\n"
          ]
        }
      ],
      "source": [
        "import numpy as np\n",
        "import tensorflow as tf\n",
        "from tensorflow.keras.models import Model\n",
        "from tensorflow.keras.layers import Input, Dense, Conv2D, BatchNormalization, Activation, Add, AveragePooling2D, Flatten, ZeroPadding2D, MaxPooling2D\n",
        "from tensorflow.keras.datasets import mnist\n",
        "from tensorflow.keras.utils import to_categorical\n",
        "from tensorflow.keras.initializers import glorot_uniform\n",
        "from tensorflow.keras.layers import GlobalAveragePooling2D\n",
        "\n",
        "# Load MNIST data\n",
        "(train_images, train_labels), (test_images, test_labels) = mnist.load_data()\n",
        "# Preprocess the data\n",
        "train_images = train_images.astype('float32') / 255.0\n",
        "test_images = test_images.astype('float32') / 255.0\n",
        "# Expand the dimensions of the data to (28, 28, 1) to fit the ConvNet\n",
        "train_images = np.expand_dims(train_images, axis=-1)\n",
        "test_images = np.expand_dims(test_images, axis=-1)\n",
        "# Convert labels to one-hot encoding\n",
        "train_labels = to_categorical(train_labels, 10)\n",
        "test_labels = to_categorical(test_labels, 10)\n",
        "# Define the identity block\n",
        "def identity_block(X, f, filters, stage, block):\n",
        "    # Retrieve Filters\n",
        "    F1, F2, F3 = filters\n",
        "    # Save the input value\n",
        "    X_shortcut = X\n",
        "    # First component of main path\n",
        "    X = Conv2D(filters=F1, kernel_size=(1, 1), strides=(1, 1), padding='valid',\n",
        "               name='res' + str(stage) + block + '_branch2a', kernel_initializer=glorot_uniform(seed=0))(X)\n",
        "    X = BatchNormalization(axis=3, name='bn' + str(stage) + block + '_branch2a')(X)\n",
        "    X = Activation('relu')(X)\n",
        "    # Second component of main path\n",
        "    X = Conv2D(filters=F2, kernel_size=(f, f), strides=(1, 1), padding='same',\n",
        "               name='res' + str(stage) + block + '_branch2b', kernel_initializer=glorot_uniform(seed=0))(X)\n",
        "    X = BatchNormalization(axis=3, name='bn' + str(stage) + block + '_branch2b')(X)\n",
        "    X = Activation('relu')(X)\n",
        "    # Third component of main path\n",
        "    X = Conv2D(filters=F3, kernel_size=(1, 1), strides=(1, 1), padding='valid',\n",
        "               name='res' + str(stage) + block + '_branch2c', kernel_initializer=glorot_uniform(seed=0))(X)\n",
        "    X = BatchNormalization(axis=3, name='bn' + str(stage) + block + '_branch2c')(X)\n",
        "    # Add shortcut value to main path\n",
        "    X = Add()([X, X_shortcut])\n",
        "    X = Activation('relu')(X)\n",
        "    return X\n",
        "# Define the convolutional block\n",
        "def convolutional_block(X, f, filters, stage, block, s=2):\n",
        "    # Retrieve Filters\n",
        "    F1, F2, F3 = filters\n",
        "    # Save the input value\n",
        "    X_shortcut = X\n",
        "    # First component of main path\n",
        "    X = Conv2D(F1, (1, 1), strides=(s, s), padding='valid',\n",
        "               name='res' + str(stage) + block + '_branch2a', kernel_initializer=glorot_uniform(seed=0))(X)\n",
        "    X = BatchNormalization(axis=3, name='bn' + str(stage) + block + '_branch2a')(X)\n",
        "    X = Activation('relu')(X)\n",
        "    # Second component of main path\n",
        "    X = Conv2D(F2, (f, f), strides=(1, 1), padding='same',\n",
        "               name='res' + str(stage) + block + '_branch2b', kernel_initializer=glorot_uniform(seed=0))(X)\n",
        "    X = BatchNormalization(axis=3, name='bn' + str(stage) + block + '_branch2b')(X)\n",
        "    X = Activation('relu')(X)\n",
        "    # Third component of main path\n",
        "    X = Conv2D(F3, (1, 1), strides=(1, 1), padding='valid',\n",
        "               name='res' + str(stage) + block + '_branch2c', kernel_initializer=glorot_uniform(seed=0))(X)\n",
        "    X = BatchNormalization(axis=3, name='bn' + str(stage) + block + '_branch2c')(X)\n",
        "    # Shortcut Path\n",
        "    X_shortcut = Conv2D(F3, (1, 1), strides=(s, s), padding='valid',\n",
        "                        name='res' + str(stage) + block + '_branch1', kernel_initializer=glorot_uniform(seed=0))(X_shortcut)\n",
        "    X_shortcut = BatchNormalization(axis=3, name='bn' + str(stage) + block + '_branch1')(X_shortcut)\n",
        "    # Add shortcut value to main path\n",
        "    X = Add()([X, X_shortcut])\n",
        "    X = Activation('relu')(X)\n",
        "    return X\n",
        "# Define the ResNet50 model adjusted for the MNIST dataset\n",
        "def ResNet50(input_shape=(28, 28, 1), classes=10):\n",
        "    # Define the input tensor\n",
        "    X_input = Input(input_shape)\n",
        "\n",
        "    # Zero-Padding\n",
        "    X = ZeroPadding2D((3, 3))(X_input)\n",
        "\n",
        "    # Stage 1\n",
        "    X = Conv2D(64, (7, 7), strides=(1, 1), name='conv1', kernel_initializer=glorot_uniform(seed=0))(X)\n",
        "    X = BatchNormalization(axis=3, name='bn_conv1')(X)\n",
        "    X = Activation('relu')(X)\n",
        "    X = MaxPooling2D((3, 3), strides=(1, 1))(X)\n",
        "\n",
        "    # Stage 2\n",
        "    X = convolutional_block(X, f = 3, filters = [64, 64, 256], stage = 2, block='a', s = 1)\n",
        "    X = identity_block(X, 3, [64, 64, 256], stage=2, block='b')\n",
        "    X = identity_block(X, 3, [64, 64, 256], stage=2, block='c')\n",
        "\n",
        "\n",
        "    # Stage 3\n",
        "    X = convolutional_block(X, f = 3, filters = [128, 128, 512], stage = 3, block='a', s = 2)\n",
        "    X = identity_block(X, 3, [128, 128, 512], stage=3, block='b')\n",
        "    X = identity_block(X, 3, [128, 128, 512], stage=3, block='c')\n",
        "    X = identity_block(X, 3, [128, 128, 512], stage=3, block='d')\n",
        "\n",
        "    # Stage 4\n",
        "    X = convolutional_block(X, f = 3, filters = [256, 256, 1024], stage = 4, block='a', s = 2)\n",
        "    X = identity_block(X, 3, [256, 256, 1024], stage=4, block='b')\n",
        "    X = identity_block(X, 3, [256, 256, 1024], stage=4, block='c')\n",
        "    X = identity_block(X, 3, [256, 256, 1024], stage=4, block='d')\n",
        "    X = identity_block(X, 3, [256, 256, 1024], stage=4, block='e')\n",
        "    X = identity_block(X, 3, [256, 256, 1024], stage=4, block='f')\n",
        "\n",
        "    # Stage 5\n",
        "    X = convolutional_block(X, f = 3, filters = [512, 512, 2048], stage = 5, block='a', s = 2)\n",
        "    X = identity_block(X, 3, [512, 512, 2048], stage=5, block='b')\n",
        "    X = identity_block(X, 3, [512, 512, 2048], stage=5, block='c')\n",
        "\n",
        "    # AVGPOOL . Use \"X = AveragePooling2D(...)(X)\"\n",
        "    X = GlobalAveragePooling2D()(X)\n",
        "\n",
        "    # output layer\n",
        "    X = Dense(classes, activation='softmax', name='fc' + str(classes), kernel_initializer=glorot_uniform(seed=0))(X)\n",
        "\n",
        "    # Create model\n",
        "    model = Model(inputs=X_input, outputs=X, name='ResNet50')\n",
        "    return model\n",
        "# Instantiate the model\n",
        "model = ResNet50(input_shape=(28, 28, 1), classes=10)\n",
        "# Compile the model\n",
        "model.compile(optimizer='adam', loss='categorical_crossentropy', metrics=['accuracy'])\n",
        "# Fit the model on the data\n",
        "model.fit(train_images, train_labels, epochs=10, batch_size=32, validation_data=(test_images, test_labels))\n",
        "# Save the model\n",
        "model.save('mnist_resnet50.h5')\n",
        "# Output to indicate save completion\n",
        "print(\"Model saved as mnist_resnet50.h5\")\n"
      ]
    },
    {
      "cell_type": "code",
      "execution_count": 3,
      "metadata": {
        "colab": {
          "base_uri": "https://localhost:8080/"
        },
        "id": "8rfpgmia87Z1",
        "outputId": "549e3049-2de9-43de-928a-3b96d1e781e1"
      },
      "outputs": [
        {
          "name": "stdout",
          "output_type": "stream",
          "text": [
            "Predicted class: 7\n",
            "Actual class: 7\n"
          ]
        }
      ],
      "source": [
        "import numpy as np\n",
        "from tensorflow.keras.models import load_model\n",
        "from tensorflow.keras.datasets import mnist\n",
        "from tensorflow.keras.utils import to_categorical\n",
        "\n",
        "# Load the model\n",
        "model = load_model('mnist_resnet50.h5')\n",
        "\n",
        "# Load the MNIST dataset\n",
        "(_, _), (test_images, test_labels) = mnist.load_data()\n",
        "\n",
        "# Preprocess the data\n",
        "test_images = test_images.astype('float32') / 255.0\n",
        "test_images = np.expand_dims(test_images, axis=-1)  # Expand the dimensions to (28, 28, 1) to fit the ConvNet\n",
        "test_labels = to_categorical(test_labels, 10)\n",
        "\n",
        "# Select a single test image and its label\n",
        "index = 0  # You can change this to test other images\n",
        "test_image = test_images[index]\n",
        "test_label = test_labels[index]\n",
        "\n",
        "# Add batch dimension (model expects (batch_size, height, width, channels))\n",
        "test_image = np.expand_dims(test_image, axis=0)\n",
        "\n",
        "# Predict\n",
        "prediction = model.predict(test_image)\n",
        "\n",
        "# Output prediction\n",
        "predicted_class = np.argmax(prediction, axis=1)\n",
        "actual_class = np.argmax(test_label)\n",
        "\n",
        "print(f'Predicted class: {predicted_class[0]}')\n",
        "print(f'Actual class: {actual_class}')\n"
      ]
    }
  ],
  "metadata": {
    "accelerator": "GPU",
    "colab": {
      "authorship_tag": "ABX9TyO0J8M+6RM9DITBkI/8ckM5",
      "gpuType": "T4",
      "include_colab_link": true,
      "provenance": []
    },
    "kernelspec": {
      "display_name": "Python 3",
      "name": "python3"
    },
    "language_info": {
      "codemirror_mode": {
        "name": "ipython",
        "version": 3
      },
      "file_extension": ".py",
      "mimetype": "text/x-python",
      "name": "python",
      "nbconvert_exporter": "python",
      "pygments_lexer": "ipython3",
      "version": "3.9.19"
    }
  },
  "nbformat": 4,
  "nbformat_minor": 0
}
