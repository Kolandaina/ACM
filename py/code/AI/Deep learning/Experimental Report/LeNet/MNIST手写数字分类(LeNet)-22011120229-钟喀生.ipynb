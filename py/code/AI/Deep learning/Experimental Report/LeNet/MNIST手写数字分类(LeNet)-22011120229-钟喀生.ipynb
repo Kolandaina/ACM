{
 "cells": [
  {
   "cell_type": "code",
   "execution_count": 6,
   "metadata": {
    "is_executing": true
   },
   "outputs": [
    {
     "name": "stdout",
     "output_type": "stream",
     "text": [
      "Downloading http://yann.lecun.com/exdb/mnist/train-images-idx3-ubyte.gz\n",
      "Failed to download (trying next):\n",
      "HTTP Error 403: Forbidden\n",
      "\n",
      "Downloading https://ossci-datasets.s3.amazonaws.com/mnist/train-images-idx3-ubyte.gz\n",
      "Downloading https://ossci-datasets.s3.amazonaws.com/mnist/train-images-idx3-ubyte.gz to data/MNIST\\raw\\train-images-idx3-ubyte.gz\n"
     ]
    },
    {
     "data": {
      "application/vnd.jupyter.widget-view+json": {
       "model_id": "e8fbe3039db04daabf6896c8e5736982",
       "version_major": 2,
       "version_minor": 0
      },
      "text/plain": [
       "  0%|          | 0/9912422 [00:00<?, ?it/s]"
      ]
     },
     "metadata": {},
     "output_type": "display_data"
    },
    {
     "name": "stdout",
     "output_type": "stream",
     "text": [
      "Extracting data/MNIST\\raw\\train-images-idx3-ubyte.gz to data/MNIST\\raw\n",
      "\n",
      "Downloading http://yann.lecun.com/exdb/mnist/train-labels-idx1-ubyte.gz\n",
      "Failed to download (trying next):\n",
      "HTTP Error 403: Forbidden\n",
      "\n",
      "Downloading https://ossci-datasets.s3.amazonaws.com/mnist/train-labels-idx1-ubyte.gz\n",
      "Downloading https://ossci-datasets.s3.amazonaws.com/mnist/train-labels-idx1-ubyte.gz to data/MNIST\\raw\\train-labels-idx1-ubyte.gz\n"
     ]
    },
    {
     "data": {
      "application/vnd.jupyter.widget-view+json": {
       "model_id": "dedc175e63394f1cab67119a2879d0d3",
       "version_major": 2,
       "version_minor": 0
      },
      "text/plain": [
       "  0%|          | 0/28881 [00:00<?, ?it/s]"
      ]
     },
     "metadata": {},
     "output_type": "display_data"
    },
    {
     "name": "stdout",
     "output_type": "stream",
     "text": [
      "Extracting data/MNIST\\raw\\train-labels-idx1-ubyte.gz to data/MNIST\\raw\n",
      "\n",
      "Downloading http://yann.lecun.com/exdb/mnist/t10k-images-idx3-ubyte.gz\n",
      "Failed to download (trying next):\n",
      "HTTP Error 403: Forbidden\n",
      "\n",
      "Downloading https://ossci-datasets.s3.amazonaws.com/mnist/t10k-images-idx3-ubyte.gz\n",
      "Downloading https://ossci-datasets.s3.amazonaws.com/mnist/t10k-images-idx3-ubyte.gz to data/MNIST\\raw\\t10k-images-idx3-ubyte.gz\n"
     ]
    },
    {
     "data": {
      "application/vnd.jupyter.widget-view+json": {
       "model_id": "43ab8cb883c7413bbf0b3ac6740d4389",
       "version_major": 2,
       "version_minor": 0
      },
      "text/plain": [
       "  0%|          | 0/1648877 [00:00<?, ?it/s]"
      ]
     },
     "metadata": {},
     "output_type": "display_data"
    },
    {
     "name": "stdout",
     "output_type": "stream",
     "text": [
      "Extracting data/MNIST\\raw\\t10k-images-idx3-ubyte.gz to data/MNIST\\raw\n",
      "\n",
      "Downloading http://yann.lecun.com/exdb/mnist/t10k-labels-idx1-ubyte.gz\n",
      "Failed to download (trying next):\n",
      "HTTP Error 403: Forbidden\n",
      "\n",
      "Downloading https://ossci-datasets.s3.amazonaws.com/mnist/t10k-labels-idx1-ubyte.gz\n",
      "Downloading https://ossci-datasets.s3.amazonaws.com/mnist/t10k-labels-idx1-ubyte.gz to data/MNIST\\raw\\t10k-labels-idx1-ubyte.gz\n"
     ]
    },
    {
     "data": {
      "application/vnd.jupyter.widget-view+json": {
       "model_id": "c3b8c212960a4c50b49987259330cc34",
       "version_major": 2,
       "version_minor": 0
      },
      "text/plain": [
       "  0%|          | 0/4542 [00:00<?, ?it/s]"
      ]
     },
     "metadata": {},
     "output_type": "display_data"
    },
    {
     "name": "stdout",
     "output_type": "stream",
     "text": [
      "Extracting data/MNIST\\raw\\t10k-labels-idx1-ubyte.gz to data/MNIST\\raw\n",
      "\n",
      "Epoch[1/5], Step[100/600], Loss:0.3710\n",
      "Epoch[1/5], Step[200/600], Loss:0.4117\n",
      "Epoch[1/5], Step[300/600], Loss:0.1451\n",
      "Epoch[1/5], Step[400/600], Loss:0.1905\n",
      "Epoch[1/5], Step[500/600], Loss:0.1453\n",
      "Epoch[1/5], Step[600/600], Loss:0.0853\n",
      "Epoch[2/5], Step[100/600], Loss:0.0867\n",
      "Epoch[2/5], Step[200/600], Loss:0.0721\n",
      "Epoch[2/5], Step[300/600], Loss:0.1355\n",
      "Epoch[2/5], Step[400/600], Loss:0.0458\n",
      "Epoch[2/5], Step[500/600], Loss:0.1036\n",
      "Epoch[2/5], Step[600/600], Loss:0.0244\n",
      "Epoch[3/5], Step[100/600], Loss:0.1166\n",
      "Epoch[3/5], Step[200/600], Loss:0.1643\n",
      "Epoch[3/5], Step[300/600], Loss:0.0325\n",
      "Epoch[3/5], Step[400/600], Loss:0.1085\n",
      "Epoch[3/5], Step[500/600], Loss:0.0225\n",
      "Epoch[3/5], Step[600/600], Loss:0.1009\n",
      "Epoch[4/5], Step[100/600], Loss:0.1161\n",
      "Epoch[4/5], Step[200/600], Loss:0.0052\n",
      "Epoch[4/5], Step[300/600], Loss:0.0280\n",
      "Epoch[4/5], Step[400/600], Loss:0.1083\n",
      "Epoch[4/5], Step[500/600], Loss:0.0353\n",
      "Epoch[4/5], Step[600/600], Loss:0.0090\n",
      "Epoch[5/5], Step[100/600], Loss:0.0273\n",
      "Epoch[5/5], Step[200/600], Loss:0.0547\n",
      "Epoch[5/5], Step[300/600], Loss:0.0055\n",
      "Epoch[5/5], Step[400/600], Loss:0.1221\n",
      "Epoch[5/5], Step[500/600], Loss:0.0090\n",
      "Epoch[5/5], Step[600/600], Loss:0.0120\n",
      "Accuracy:98.81%\n"
     ]
    }
   ],
   "source": [
    "import torch\n",
    "import torch.nn as nn  # 引入pytorch函数库\n",
    "import torchvision  # 引入pytorch的图形库（torchvision.datasets/.models/.transforms/.utils）\n",
    "import torchvision.transforms as transforms  # 图形变换（如tensor转换）\n",
    " \n",
    "# 是否使用GPU\n",
    "DEVICE = torch.device('cuda' if torch.cuda.is_available() else 'cpu')\n",
    " \n",
    "# 设置超参数\n",
    "NUM_CLASSES = 10  # 分类数目\n",
    "EPOCHS = 5  # 训练轮次\n",
    "BATCH_SIZE = 100  # 一轮训练批量大小\n",
    "LR = 0.001  # 学习率learning_rate\n",
    " \n",
    "# 创建数据集(root：设置数据集保存路径，train:是否为训练数据集，transforms:将PIL或numpy.ndarray转换为tensor格式,download:是否下载数据集)\n",
    "train_dataset = torchvision.datasets.MNIST(root='data/', train=True, transform=transforms.ToTensor(), download=True)\n",
    "test_dataset = torchvision.datasets.MNIST(root='data/', train=False, transform=transforms.ToTensor(), download=False)\n",
    " \n",
    "# 加载数据集(torch.utilsdata.DataLoader:torch的数据集加载器,dataset:要加载的数据集,batch_size:批量大小,shuffle:是否打乱)\n",
    "train_loader = torch.utils.data.DataLoader(dataset=train_dataset, batch_size=BATCH_SIZE, shuffle=True)\n",
    "test_loader = torch.utils.data.DataLoader(dataset=test_dataset, batch_size=BATCH_SIZE, shuffle=False)\n",
    " \n",
    " \n",
    "# 构造网络模型\n",
    "# input_size(1*28*28)\n",
    "# 卷积：(n-k+2p)/s+1   池化：(n-k)/s+1\n",
    "class LeNet(nn.Module):\n",
    "    def __init__(self, num_class=10):\n",
    "        super(LeNet, self).__init__()  # 继承父类所有属性和方法，父类属性用父类的方法初始化\n",
    "        self.conv1 = nn.Sequential(  # nn.Sequential:相当于一个容器，将一系列操作包含其中\n",
    "            nn.Conv2d(1, 6, 5, 1, 2),  # Conv2d(in_channels,out_channels,kernel_size,stride,padding)  out_size(6*28*28)\n",
    "            nn.ReLU(),  # ReLu()激活函数引入非线性，把负值变为0，正值不变\n",
    "            nn.MaxPool2d(kernel_size=2, stride=2)  # 最大池化层，MaxPool2d(kernel_size,stride,padding)  out_size(6*14*14)\n",
    "        )\n",
    "        self.conv2 = nn.Sequential(\n",
    "            nn.Conv2d(6, 16, 5),  # out_size(16*10*10)\n",
    "            nn.ReLU(),\n",
    "            nn.MaxPool2d(2, 2)  # out_size(16*5*5)\n",
    "        )\n",
    "        self.fc1 = nn.Sequential(\n",
    "            nn.Linear(16 * 5 * 5, 120),  # 全连接层nn.Linear(in_features,out_features)输入和输出的二维张量大小或神经元个数\n",
    "            nn.ReLU()\n",
    "        )\n",
    "        self.fc2 = nn.Sequential(\n",
    "            nn.Linear(120, 84),\n",
    "            nn.ReLU()\n",
    "        )\n",
    "        self.fc3 = nn.Linear(84, 10)  # 最后一层得到要数字分类的10类概率值\n",
    " \n",
    "    # 前向传播\n",
    " \n",
    "    def forward(self, x):\n",
    "        x = self.conv1(x)\n",
    "        x = self.conv2(x)\n",
    "        x = x.view(x.size()[0], -1)  # 表示将多维的tensor数据展平成一维，torch.view(a,b):重构成a*b维的张量 torch.view(a,-1):-1表示列需要自动计算列数\n",
    "        x = self.fc1(x)\n",
    "        x = self.fc2(x)\n",
    "        x = self.fc3(x)\n",
    "        return x\n",
    " \n",
    " \n",
    "model = LeNet(NUM_CLASSES).to(DEVICE)  # 将模型加载到设备上\n",
    " \n",
    "# 构造损失函数和优化器\n",
    "criterion = nn.CrossEntropyLoss()  # 交叉熵损失函数\n",
    "optimizer = torch.optim.Adam(model.parameters(), lr=LR)\n",
    " \n",
    "# 训练模型\n",
    "total_step = len(train_loader)  # 总训练次数\n",
    "for epoch in range(EPOCHS):\n",
    "    for i, (images, labels) in enumerate(train_loader):\n",
    "        images = images.to(DEVICE)\n",
    "        labels = labels.to(DEVICE)\n",
    " \n",
    "        # 前向传播\n",
    "        outputs = model(images)\n",
    "        loss = criterion(outputs, labels)\n",
    " \n",
    "        # 反向传播,更新优化器\n",
    "        optimizer.zero_grad()  # 梯度置零\n",
    "        loss.backward()  # loss反向传播计算梯度\n",
    "        optimizer.step()  # 更新网络参数\n",
    " \n",
    "        if (i + 1) % 100 == 0:\n",
    "            print(f'Epoch[{epoch + 1}/{EPOCHS}], Step[{i + 1}/{total_step}], Loss:{loss.item():.4f}')\n",
    " \n",
    "# 测试模型\n",
    "model.eval()  # 切换到评估模式而非训练模式即固定参数\n",
    "with torch.no_grad():\n",
    "    correct = 0\n",
    "    total = 0\n",
    "    for images, labels in test_loader:\n",
    "        images = images.to(DEVICE)\n",
    "        labels = labels.to(DEVICE)\n",
    "        outputs = model(images)\n",
    "        _, predicted = torch.max(outputs.data, 1)  # 下划线没有实际意义，表示的是具体的value,用其他变量表示也可以，1表示输出所在行的最大值，为0时表示输出所在列的最大值\n",
    "        total += labels.size(0)  # 数据总量\n",
    "        correct += (predicted == labels).sum().item()  # 总准确个数\n",
    "    print(f'Accuracy:{(100 * correct / total)}%')\n",
    " \n",
    "# 模型保存\n",
    "torch.save(model.state_dict(), 'LeNet.pth')"
   ]
  },
  {
   "cell_type": "code",
   "execution_count": 11,
   "metadata": {
    "collapsed": false
   },
   "outputs": [
    {
     "data": {
      "image/png": "[encoded data removed]",
      "text/plain": [
       "<Figure size 640x480 with 1 Axes>"
      ]
     },
     "metadata": {},
     "output_type": "display_data"
    }
   ],
   "source": [
    "import torch\n",
    "import torch.nn as nn\n",
    "import torchvision\n",
    "import matplotlib.pyplot as plt\n",
    "from PIL import Image\n",
    "from torchvision import transforms\n",
    "import numpy as np\n",
    " \n",
    " \n",
    "class LeNet(nn.Module):\n",
    "    def __init__(self, num_class=10):\n",
    "        super(LeNet, self).__init__()  # 继承父类所有属性和方法，父类属性用父类的方法初始化\n",
    "        self.conv1 = nn.Sequential(  # nn.Sequential:相当于一个容器，将一系列操作包含其中\n",
    "            nn.Conv2d(1, 6, 5, 1, 2),  # Conv2d(in_channels,out_channels,kernel_size,stride,padding)  out_size(6*28*28)\n",
    "            nn.ReLU(),  # ReLu()激活函数引入非线性，把负值变为0，正值不变\n",
    "            nn.MaxPool2d(kernel_size=2, stride=2)  # 最大池化层，MaxPool2d(kernel_size,stride,padding)  out_size(6*14*14)\n",
    "        )\n",
    "        self.conv2 = nn.Sequential(\n",
    "            nn.Conv2d(6, 16, 5),  # out_size(16*10*10)\n",
    "            nn.ReLU(),\n",
    "            nn.MaxPool2d(2, 2)  # out_size(16*5*5)\n",
    "        )\n",
    "        self.fc1 = nn.Sequential(\n",
    "            nn.Linear(16 * 5 * 5, 120),  # 全连接层nn.Linear(in_features,out_features)输入和输出的二维张量大小或神经元个数\n",
    "            nn.ReLU()\n",
    "        )\n",
    "        self.fc2 = nn.Sequential(\n",
    "            nn.Linear(120, 84),\n",
    "            nn.ReLU()\n",
    "        )\n",
    "        self.fc3 = nn.Linear(84, 10)  # 最后一层得到要数字分类的10类概率值\n",
    " \n",
    "    # 前向传播\n",
    " \n",
    "    def forward(self, x):\n",
    "        x = self.conv1(x)\n",
    "        x = self.conv2(x)\n",
    "        x = x.view(x.size()[0], -1)  # 表示将多维的tensor数据展平成一维，torch.view(a,b):重构成a*b维的张量 torch.view(a,-1):-1表示列需要自动计算列数\n",
    "        x = self.fc1(x)\n",
    "        x = self.fc2(x)\n",
    "        x = self.fc3(x)\n",
    "        return x\n",
    " \n",
    " \n",
    "# 读取图片\n",
    "test_img = 'newTest6.png'\n",
    "img = plt.imread(test_img)\n",
    "images = Image.open(test_img)\n",
    "images = images.resize((28, 28))\n",
    "images = images.convert('L')\n",
    "transform = transforms.ToTensor()\n",
    "images = transform(images)\n",
    "images = images.resize(1, 1, 28, 28)\n",
    " \n",
    "# 加载网络模型\n",
    "model = LeNet()\n",
    "model.load_state_dict(torch.load('LeNet.pth'))\n",
    "# model = torch.load('LeNet.pth')\n",
    "model.eval()\n",
    "outputs = model(images)\n",
    " \n",
    "values, indices = outputs.data.max(1)  # 返回最大概率值和下标\n",
    "plt.title('{}'.format((int(indices[0]))))\n",
    "plt.imshow(img)\n",
    "plt.show()"
   ]
  }
 ],
 "metadata": {
  "kernelspec": {
   "display_name": "test1",
   "language": "python",
   "name": "python3"
  },
  "language_info": {
   "codemirror_mode": {
    "name": "ipython",
    "version": 3
   },
   "file_extension": ".py",
   "mimetype": "text/x-python",
   "name": "python",
   "nbconvert_exporter": "python",
   "pygments_lexer": "ipython3",
   "version": "3.9.16"
  }
 },
 "nbformat": 4,
 "nbformat_minor": 2
}
