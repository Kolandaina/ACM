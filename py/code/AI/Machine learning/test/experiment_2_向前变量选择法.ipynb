{
 "cells": [
  {
   "cell_type": "markdown",
   "id": "0659bfbb",
   "metadata": {},
   "source": [
    "# 预备知识"
   ]
  },
  {
   "cell_type": "code",
   "execution_count": 1,
   "id": "dff0f4f3",
   "metadata": {},
   "outputs": [
    {
     "name": "stdout",
     "output_type": "stream",
     "text": [
      "21.894831181729202\n",
      "4.679191295697281\n",
      "0.7406426641094095\n"
     ]
    }
   ],
   "source": [
    "# 去除warning警报\n",
    "import warnings\n",
    "warnings.filterwarnings('ignore')\n",
    "# 导入数据集方法\n",
    "from sklearn.datasets import load_boston\n",
    "\n",
    "# 加载数据\n",
    "boston = load_boston()\n",
    "# 查看数据结构\n",
    "boston.keys()\n",
    "# 获取数据特征矩阵\n",
    "X = boston['data']\n",
    "# 获取数据响应变量\n",
    "y = boston['target']\n",
    "# 导入模型\n",
    "from sklearn.linear_model import LinearRegression\n",
    "# 创建模型\n",
    "lr = LinearRegression()\n",
    "# 模型训练\n",
    "lr.fit(X, y)\n",
    "# 模型预测\n",
    "yhat = lr.predict(X)\n",
    "# 模型评估\n",
    "from sklearn.metrics import mean_squared_error, r2_score\n",
    "# 计算均方误差并打印\n",
    "MSE = mean_squared_error(y, yhat)\n",
    "print(MSE)\n",
    "# 计算均方根误差并打印\n",
    "RMSE = mean_squared_error(y, yhat)**0.5\n",
    "print(RMSE)\n",
    "# 计算均方误差并打印\n",
    "r_2 = r2_score(y, yhat)\n",
    "print(r_2)"
   ]
  },
  {
   "cell_type": "markdown",
   "id": "f24e034a",
   "metadata": {},
   "source": [
    "# 变量选择法"
   ]
  },
  {
   "cell_type": "code",
   "execution_count": 2,
   "id": "c197c81c",
   "metadata": {},
   "outputs": [
    {
     "name": "stdout",
     "output_type": "stream",
     "text": [
      "特征数据形状： (506, 13)\n",
      "响应变量形状： (506,)\n",
      "训练集特征维度 (354, 13)\n",
      "训练集响应变量维度 (354,)\n",
      "测试集特征维度 (152, 13)\n",
      "测试集响应变量维度 (152,)\n"
     ]
    }
   ],
   "source": [
    "# 去除warning警报\n",
    "import warnings \n",
    "warnings.filterwarnings(\"ignore\")\n",
    "# 导入加载数据集的方法\n",
    "from sklearn.datasets import load_boston\n",
    "# 导入数据集拆分工具\n",
    "from sklearn.model_selection import train_test_split\n",
    "# 加载数据集\n",
    "boston = load_boston()\n",
    "# 查看数据集结构\n",
    "boston.keys()\n",
    "# 导入特征数据\n",
    "X = boston.data\n",
    "# 导入响应变量\n",
    "y = boston.target\n",
    "# 查看数据集形状\n",
    "print(\"特征数据形状：\",X.shape)\n",
    "print(\"响应变量形状：\",y.shape)\n",
    "# 按照7：3的比例切割数据集为训练集和测试集\n",
    "X_train, X_test, y_train, y_test = train_test_split(X, y,train_size=0.7)\n",
    "# 查看训练集形状\n",
    "print(\"训练集特征维度\", X_train.shape)\n",
    "\n",
    "print(\"训练集响应变量维度\", y_train.shape)\n",
    "print(\"测试集特征维度\", X_test.shape)\n",
    "print(\"测试集响应变量维度\", y_test.shape)"
   ]
  },
  {
   "cell_type": "markdown",
   "id": "f2d5bde2",
   "metadata": {},
   "source": [
    "### 1.1查看特征与响应变量相关性"
   ]
  },
  {
   "cell_type": "code",
   "execution_count": 3,
   "id": "61a279e3",
   "metadata": {},
   "outputs": [
    {
     "data": {
      "text/plain": [
       "<BarContainer object of 14 artists>"
      ]
     },
     "execution_count": 3,
     "metadata": {},
     "output_type": "execute_result"
    },
    {
     "data": {
      "image/png": "[encoded data removed]",
      "text/plain": [
       "<Figure size 640x480 with 1 Axes>"
      ]
     },
     "metadata": {},
     "output_type": "display_data"
    }
   ],
   "source": [
    "import numpy as np\n",
    "import matplotlib.pyplot as plt\n",
    "# 将响应变量和特征拼接在一起\n",
    "full = np.hstack((y.reshape(-1,1),X))\n",
    "# 利用相关性函数计算响应变量与特征相关性\n",
    "corr = np.corrcoef(full.T)[0,:]\n",
    "# 利用柱状图展示相关性\n",
    "plt.bar(np.arange(0,14),corr)"
   ]
  },
  {
   "cell_type": "markdown",
   "id": "8840d205",
   "metadata": {},
   "source": [
    "### 2.线性回归模型"
   ]
  },
  {
   "cell_type": "code",
   "execution_count": 4,
   "id": "73ba0c0b",
   "metadata": {},
   "outputs": [
    {
     "name": "stdout",
     "output_type": "stream",
     "text": [
      "模型均方误差 23.567253793508726\n",
      "模型均方根误差 4.854611600685345\n",
      "模型R方 0.698869135092066\n"
     ]
    }
   ],
   "source": [
    "# 导入线性回归模型\n",
    "from sklearn.linear_model import LinearRegression\n",
    "# 创建线性回归模型\n",
    "lr = LinearRegression()\n",
    "# 使用线性回归模型拟合训练集数据\n",
    "lr.fit(X_train, y_train)\n",
    "# 使用拟合之后的模型预测数据\n",
    "yhat = lr.predict(X_test)\n",
    "from sklearn.metrics import mean_squared_error, r2_score\n",
    "# 计算模型均方误差\n",
    "MSE = mean_squared_error(y_test, yhat)\n",
    "print(\"模型均方误差\",MSE)\n",
    "# 计算模型均方根误差\n",
    "RMSE = mean_squared_error(y_test, yhat)**0.5\n",
    "print(\"模型均方根误差\",RMSE)\n",
    "# 计算模型R方\n",
    "r_2 = r2_score(y_test, yhat)\n",
    "print(\"模型R方\",r_2)"
   ]
  },
  {
   "cell_type": "markdown",
   "id": "59a4ed09",
   "metadata": {},
   "source": [
    "### 3.向前变量选择法"
   ]
  },
  {
   "cell_type": "code",
   "execution_count": 5,
   "id": "bf589f8c",
   "metadata": {},
   "outputs": [
    {
     "name": "stdout",
     "output_type": "stream",
     "text": [
      "Best feature subset: (1, 3, 4, 5, 7, 8, 10, 11, 12)\n",
      "向前选择后训练集特征形状： (354, 9)\n",
      "向前选择后测试集特征形状： (152, 9)\n",
      "模型均方误差 23.441045247672633\n",
      "模型均方根误差 4.84159532051912\n",
      "模型R方 0.700481766283608\n"
     ]
    }
   ],
   "source": [
    "# 导入变量选择法\n",
    "from mlxtend.feature_selection import SequentialFeatureSelector as SFS\n",
    "# 创建向前（Stepwise Regression）选择器\n",
    "sfs_forward = SFS(lr,\n",
    "                  k_features=9,\n",
    "                  forward=True,\n",
    "                  scoring='neg_mean_squared_error')\n",
    "# 使用向前选择器拟合训练集数据\n",
    "sfs_forward.fit(X_train, y_train)\n",
    "# 输出最佳特征组合\n",
    "print('Best feature subset:', sfs_forward.k_feature_idx_)\n",
    "# 使用向前选择法转换训练集、测试集数据\n",
    "X_sfs_train = sfs_forward.transform(X_train)\n",
    "X_sfs_test = sfs_forward.transform(X_test)\n",
    "# 查看转换后特征形状\n",
    "print(\"向前选择后训练集特征形状：\",X_sfs_train.shape)\n",
    "print(\"向前选择后测试集特征形状：\",X_sfs_test.shape)\n",
    "# 使用转换后数据拟合模型\n",
    "lr.fit(X_sfs_train, y_train)\n",
    "# 使用拟合之后的模型预测数据\n",
    "yhat = lr.predict(X_sfs_test)\n",
    "# 导入均方误差方法，R方进行模型评估\n",
    "from sklearn.metrics import mean_squared_error, r2_score\n",
    "# 计算模型均方误差\n",
    "MSE = mean_squared_error(y_test, yhat)\n",
    "print(\"模型均方误差\",MSE)\n",
    "# 计算模型均方根误差\n",
    "RMSE = mean_squared_error(y_test, yhat)**0.5\n",
    "print(\"模型均方根误差\",RMSE)\n",
    "# 计算模型R方\n",
    "r_2 = r2_score(y_test, yhat)\n",
    "print(\"模型R方\",r_2)"
   ]
  },
  {
   "cell_type": "markdown",
   "id": "cedd9491",
   "metadata": {},
   "source": [
    "### 4.向后变量选择法"
   ]
  },
  {
   "cell_type": "code",
   "execution_count": 6,
   "id": "627d9c48",
   "metadata": {},
   "outputs": [
    {
     "name": "stdout",
     "output_type": "stream",
     "text": [
      "Best feature subset: (1, 4, 5, 7, 8, 9, 10, 11, 12)\n",
      "向后选择后训练集特征形状： (354, 9)\n",
      "向后选择后测试集特征形状： (152, 9)\n",
      "模型均方误差 23.33839324006559\n",
      "模型均方根误差 4.830982637110756\n",
      "模型R方 0.7017934035284938\n"
     ]
    }
   ],
   "source": [
    "# 导入变量选择法\n",
    "# 导入变量选择法\n",
    "from mlxtend.feature_selection import SequentialFeatureSelector as SFS\n",
    "# 创建向后（Stepwise Regression）选择器\n",
    "sfs_backward = SFS(lr,\n",
    "                   k_features=9,\n",
    "                   forward=False,\n",
    "                   scoring='neg_mean_squared_error')\n",
    "# 使用向后选择器拟合训练集数据\n",
    "sfs_backward.fit(X_train, y_train)\n",
    "# 输出最佳特征组合\n",
    "print('Best feature subset:', sfs_backward.k_feature_idx_)\n",
    "# 使用向后选择法转换训练集、测试集数据\n",
    "X_sfs_backward_train = sfs_backward.transform(X_train)\n",
    "X_sfs_backward_test = sfs_backward.transform(X_test)\n",
    "# 查看转换后特征形状\n",
    "print(\"向后选择后训练集特征形状：\", X_sfs_backward_train.shape)\n",
    "print(\"向后选择后测试集特征形状：\", X_sfs_backward_test.shape)\n",
    "# 使用转换后数据拟合模型\n",
    "lr.fit(X_sfs_backward_train, y_train)\n",
    "# 使用拟合之后的模型预测数据\n",
    "yhat_backward = lr.predict(X_sfs_backward_test)\n",
    "# 导入均方误差方法，R方进行模型评估\n",
    "from sklearn.metrics import mean_squared_error, r2_score\n",
    "# 计算模型均方误差\n",
    "MSE_backward = mean_squared_error(y_test, yhat_backward)\n",
    "print(\"模型均方误差\", MSE_backward)\n",
    "# 计算模型均方根误差\n",
    "RMSE_backward = mean_squared_error(y_test, yhat_backward)**0.5\n",
    "print(\"模型均方根误差\", RMSE_backward)\n",
    "# 计算模型R方\n",
    "r_2_backward = r2_score(y_test, yhat_backward)\n",
    "print(\"模型R方\", r_2_backward)\n"
   ]
  }
 ],
 "metadata": {
  "kernelspec": {
   "display_name": "Python 3 (ipykernel)",
   "language": "python",
   "name": "python3"
  },
  "language_info": {
   "codemirror_mode": {
    "name": "ipython",
    "version": 3
   },
   "file_extension": ".py",
   "mimetype": "text/x-python",
   "name": "python",
   "nbconvert_exporter": "python",
   "pygments_lexer": "ipython3",
   "version": "3.11.0"
  }
 },
 "nbformat": 4,
 "nbformat_minor": 5
}
