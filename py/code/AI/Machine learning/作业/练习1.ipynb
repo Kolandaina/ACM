{
 "cells": [
  {
   "cell_type": "code",
   "execution_count": null,
   "metadata": {},
   "outputs": [],
   "source": [
    "import numpy as np\n",
    "import pandas as pd\n",
    "import matplotlib.pyplot as plt"
   ]
  },
  {
   "cell_type": "code",
   "execution_count": null,
   "metadata": {
    "scrolled": true
   },
   "outputs": [],
   "source": [
    "data = pd.read_excel('./请输入信息.xls')\n",
    "data = data.drop(data.columns[0], axis=1)\n",
    "data"
   ]
  },
  {
   "cell_type": "code",
   "execution_count": null,
   "metadata": {
    "scrolled": true
   },
   "outputs": [],
   "source": [
    "pattern = r'[A-Za-z\\u4e00-\\u9fff-]'\n",
    "mask = data.stack().astype(str).str.contains(pattern, na=False).unstack()\n",
    "mask"
   ]
  },
  {
   "cell_type": "code",
   "execution_count": null,
   "metadata": {},
   "outputs": [],
   "source": [
    "data = data[~mask]\n",
    "data.iloc[5,:]"
   ]
  },
  {
   "cell_type": "code",
   "execution_count": null,
   "metadata": {},
   "outputs": [],
   "source": [
    "median_values = data.median()\n",
    "median_values = median_values.astype(int)\n",
    "data = data.fillna(median_values)"
   ]
  },
  {
   "cell_type": "code",
   "execution_count": null,
   "metadata": {},
   "outputs": [],
   "source": [
    "data.iloc[5,:]"
   ]
  },
  {
   "cell_type": "code",
   "execution_count": null,
   "metadata": {},
   "outputs": [],
   "source": [
    "X = data[[\"性别\", \"年龄\", \"体重kg\"]].to_numpy().astype(float)\n",
    "y = data[\"身高cm\"].to_numpy().astype(float)\n",
    "X = np.column_stack((np.ones(X.shape[0]), X))"
   ]
  },
  {
   "cell_type": "markdown",
   "metadata": {},
   "source": [
    "### 最小二乘法\n",
    "$$((X.T*X)^-1)*X.T*y$$"
   ]
  },
  {
   "cell_type": "code",
   "execution_count": null,
   "metadata": {},
   "outputs": [],
   "source": [
    "coefficients = np.dot(np.dot(np.linalg.inv(np.dot(X.T, X)), X.T), y)\n",
    "intercept, beta_gender, beta_age, beta_weight = coefficients"
   ]
  },
  {
   "cell_type": "code",
   "execution_count": null,
   "metadata": {},
   "outputs": [],
   "source": [
    "print(\"截距:\", intercept)\n",
    "print(\"性别系数:\", beta_gender)\n",
    "print(\"年龄系数:\", beta_age)\n",
    "print(\"体重系数:\", beta_weight)"
   ]
  },
  {
   "cell_type": "code",
   "execution_count": null,
   "metadata": {},
   "outputs": [],
   "source": [
    "# 性别女，体重45，年龄18\n",
    "yhat = intercept+beta_gender*0+beta_age*18+beta_weight*45\n",
    "print(\"该样本的身高是：\",yhat)"
   ]
  },
  {
   "cell_type": "code",
   "execution_count": null,
   "metadata": {},
   "outputs": [],
   "source": [
    "# 性别男，体重84，年龄20，真实身高187\n",
    "yhat = intercept+beta_gender*1+beta_age*20+beta_weight*84**2\n",
    "print(\"该样本的身高是：\",yhat)"
   ]
  },
  {
   "cell_type": "markdown",
   "metadata": {},
   "source": [
    "### 多项式回归\n",
    "$$y=a_1x_1^2+a_2x_2+a_3x_3+b$$"
   ]
  },
  {
   "cell_type": "code",
   "execution_count": null,
   "metadata": {},
   "outputs": [],
   "source": [
    "weight_column = X[:, 3]\n",
    "plt.scatter(weight_column, y, label=\"Weight\")"
   ]
  },
  {
   "cell_type": "code",
   "execution_count": null,
   "metadata": {},
   "outputs": [],
   "source": [
    "X[:,3] = X[:,3]**2"
   ]
  },
  {
   "cell_type": "code",
   "execution_count": null,
   "metadata": {},
   "outputs": [],
   "source": [
    "beta = np.linalg.inv(X.T.dot(X)).dot((X.T).dot(y))\n",
    "intercept, beta_gender, beta_age, beta_weight = beta\n",
    "print(\"截距:\", intercept)\n",
    "print(\"性别系数:\", beta_gender)\n",
    "print(\"年龄系数:\", beta_age)\n",
    "print(\"体重系数:\", beta_weight)"
   ]
  },
  {
   "cell_type": "code",
   "execution_count": null,
   "metadata": {},
   "outputs": [],
   "source": []
  }
 ],
 "metadata": {
  "kernelspec": {
   "display_name": "d2l",
   "language": "python",
   "name": "d2l"
  },
  "language_info": {
   "codemirror_mode": {
    "name": "ipython",
    "version": 3
   },
   "file_extension": ".py",
   "mimetype": "text/x-python",
   "name": "python",
   "nbconvert_exporter": "python",
   "pygments_lexer": "ipython3",
   "version": "3.9.0"
  }
 },
 "nbformat": 4,
 "nbformat_minor": 2
}
