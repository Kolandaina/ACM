{
 "cells": [
  {
   "cell_type": "markdown",
   "id": "dcce0398",
   "metadata": {},
   "source": [
    "# 分类模型的评估"
   ]
  },
  {
   "cell_type": "markdown",
   "id": "6110f254",
   "metadata": {},
   "source": [
    "### 1.导入乳腺癌肿瘤数据集并切割数据"
   ]
  },
  {
   "cell_type": "code",
   "execution_count": null,
   "id": "f339ae60",
   "metadata": {},
   "outputs": [],
   "source": [
    "# 去除warning警报\n",
    "import warnings \n",
    "warnings.filterwarnings(\"ignore\")\n",
    "\n",
    "# 导入numpy\n",
    "\n",
    "import numpy as np\n",
    "# 导入数据集\n",
    "\n",
    "from sklearn.datasets import load_breast_cancer\n",
    "# 导入数据集切割方法\n",
    "\n",
    "from sklearn.model_selection import train_test_split\n",
    "# 加载数据\n",
    "bc = load_breast_cancer()\n",
    "\n",
    "# 获取数据特征矩阵和响应变量\n",
    "\n",
    "X = bc.data\n",
    "y = bc.target\n",
    "# 查看数据集特征和响应变量形状\n",
    "\n",
    "print(\"特征矩阵的形状为：\",X.shape)\n",
    "print(\"响应变量的形状为：\",y.shape)\n",
    "\n",
    "# 查看响应变量类别数\n",
    "\n",
    "print(\"响应变量类别为：\",np.unique(y))\n",
    "# 切割数据集为测试集和训练集(8:2)\n",
    "\n",
    "X_train, X_test, y_train, y_test = train_test_split(X, y, train_size=0.8)\n",
    "# 查看训练集和测试集特征和响应变量形状\n",
    "\n",
    "print(\"训练集特征矩阵的形状为：\",X_train.shape)\n",
    "print(\"训练集响应变量的形状为：\",y_train.shape)\n",
    "print(\"测试集特征矩阵的形状为：\",X_test.shape)\n",
    "print(\"测试集响应变量的形状为：\",y_test.shape)"
   ]
  },
  {
   "cell_type": "markdown",
   "id": "89bbc992",
   "metadata": {},
   "source": [
    "### 2.建立支持向量机分类模型"
   ]
  },
  {
   "cell_type": "code",
   "execution_count": null,
   "id": "f27bf86c",
   "metadata": {},
   "outputs": [],
   "source": [
    "# 导入SVM模型(在svm子库下)\n",
    "from sklearn.svm import SVC\n",
    "# 创建支持向量机模型svm\n",
    "svc = SVC(C=10)\n",
    "# 使用训练集数据拟合模型\n",
    "svc.fit(X_train, y_train)\n",
    "# 使用模型预测测试集和训练集数据\n",
    "yhat1 = svc.predict(X_train)\n",
    "yhat2 = svc.predict(X_test)\n",
    "# 导入混淆矩阵\n",
    "from sklearn.metrics import confusion_matrix\n",
    "# 查看训练集的混淆矩阵\n",
    "cm1 = confusion_matrix(y_train, yhat1)\n",
    "print(\"训练集数据的混淆矩阵为：\\n\", cm1)\n",
    "# 查看测试集的混淆矩阵\n",
    "cm2 = confusion_matrix(y_test, yhat2)\n",
    "print(\"测试集数据的混淆矩阵为：\\n\", cm2)\n",
    "\n",
    "# 导入准确率\n",
    "from sklearn.metrics import accuracy_score\n",
    "\n",
    "# 查看训练集准确率\n",
    "acc1 = accuracy_score(y_train, yhat1)\n",
    "print(\"训练集的准确率为：\", acc1)\n",
    "\n",
    "# 查看测试集准确率\n",
    "acc2 = accuracy_score(y_test, yhat2)\n",
    "print(\"测试集的准确率为：\", acc2)\n"
   ]
  },
  {
   "cell_type": "markdown",
   "id": "ba4c75fe",
   "metadata": {},
   "source": [
    "#### 3.3查看精确度"
   ]
  },
  {
   "cell_type": "code",
   "execution_count": null,
   "id": "8055f6a6",
   "metadata": {},
   "outputs": [],
   "source": [
    "# 导入精确度\n",
    "from sklearn.metrics import precision_score\n",
    "\n",
    "# 查看训练集精确率\n",
    "precision1 = precision_score(y_train, yhat1)\n",
    "print(\"训练集的精确率为：\", precision1)\n",
    "\n",
    "# 查看测试集精确率\n",
    "precision2 = precision_score(y_test, yhat2)\n",
    "print(\"测试集的精确率为：\", precision2)\n",
    "\n",
    "# 导入召回率\n",
    "from sklearn.metrics import recall_score\n",
    "\n",
    "# 查看训练集召回率\n",
    "recall1 = recall_score(y_train, yhat1)\n",
    "print(\"训练集的召回率为：\", recall1)\n",
    "\n",
    "# 查看测试集召回率\n",
    "recall2 = recall_score(y_test, yhat2)\n",
    "print(\"测试集的召回率为：\", recall2)\n",
    "\n",
    "# 导入F1 score\n",
    "from sklearn.metrics import f1_score\n",
    "\n",
    "# 查看训练集F1值\n",
    "f1_train = f1_score(y_train, yhat1)\n",
    "print(\"训练集的F1值为:\", f1_train)\n",
    "\n",
    "# 查看测试集F1值\n",
    "f1_test = f1_score(y_test, yhat2)\n",
    "print(\"测试集的F1值为:\", f1_test)\n"
   ]
  },
  {
   "cell_type": "markdown",
   "id": "5f8f3718",
   "metadata": {},
   "source": [
    "#### 3.6查看ROC曲线和AUC面积"
   ]
  },
  {
   "cell_type": "code",
   "execution_count": null,
   "id": "4cea27c6",
   "metadata": {},
   "outputs": [],
   "source": [
    "# 导入ROC曲线和AUC面积方法\n",
    "from sklearn.metrics import roc_curve, auc\n",
    "# 导入绘图工具\n",
    "from matplotlib import pyplot as plt\n",
    "\n",
    "# 查看训练集ROC曲线\n",
    "fpr1, tpr1, _ = roc_curve(y_train, yhat1)\n",
    "# 绘制训练集ROC曲线\n",
    "plt.plot(fpr1, tpr1)\n",
    "# 查看训练集AUC面积\n",
    "auc1 = auc(fpr1, tpr1)\n",
    "print(\"训练集AUC面积为:\", auc1)\n",
    "\n",
    "# 查看测试集ROC曲线\n",
    "fpr2, tpr2, _ = roc_curve(y_test, yhat2)\n",
    "# 绘制测试集ROC曲线\n",
    "plt.plot(fpr2, tpr2)\n",
    "# 查看测试集AUC面积\n",
    "auc2 = auc(fpr2, tpr2)\n",
    "print(\"测试集AUC面积为:\", auc2)\n",
    "\n",
    "# 显示ROC曲线\n",
    "plt.xlabel('False Positive Rate')\n",
    "plt.ylabel('True Positive Rate')\n",
    "plt.title('ROC Curve')\n",
    "plt.legend(['Train', 'Test'])\n",
    "plt.show()\n"
   ]
  }
 ],
 "metadata": {
  "kernelspec": {
   "display_name": "Python 3 (ipykernel)",
   "language": "python",
   "name": "python3"
  },
  "language_info": {
   "codemirror_mode": {
    "name": "ipython",
    "version": 3
   },
   "file_extension": ".py",
   "mimetype": "text/x-python",
   "name": "python",
   "nbconvert_exporter": "python",
   "pygments_lexer": "ipython3",
   "version": "3.11.0"
  }
 },
 "nbformat": 4,
 "nbformat_minor": 5
}
