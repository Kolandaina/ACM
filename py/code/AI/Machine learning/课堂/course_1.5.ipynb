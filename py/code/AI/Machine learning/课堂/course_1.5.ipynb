{
 "cells": [
  {
   "cell_type": "markdown",
   "id": "118ccc9c",
   "metadata": {},
   "source": [
    "# python科学计算"
   ]
  },
  {
   "cell_type": "markdown",
   "id": "f3ace066",
   "metadata": {},
   "source": [
    "## 1. Numpy"
   ]
  },
  {
   "cell_type": "code",
   "execution_count": null,
   "id": "39d2f8d9",
   "metadata": {},
   "outputs": [],
   "source": [
    "# 导入numpy\n",
    "import numpy as np"
   ]
  },
  {
   "cell_type": "code",
   "execution_count": null,
   "id": "cd861ea6",
   "metadata": {},
   "outputs": [],
   "source": [
    "A = np.array([1,2,3])"
   ]
  },
  {
   "cell_type": "code",
   "execution_count": 1,
   "id": "4f74b9b9",
   "metadata": {
    "scrolled": false
   },
   "outputs": [
    {
     "ename": "NameError",
     "evalue": "name 'A' is not defined",
     "output_type": "error",
     "traceback": [
      "\u001b[1;31m---------------------------------------------------------------------------\u001b[0m",
      "\u001b[1;31mNameError\u001b[0m                                 Traceback (most recent call last)",
      "\u001b[1;32md:\\source code\\pythonProject\\python1\\course_1.5.ipynb 单元格 5\u001b[0m line \u001b[0;36m2\n\u001b[0;32m      <a href='vscode-notebook-cell:/d%3A/source%20code/pythonProject/python1/course_1.5.ipynb#W4sZmlsZQ%3D%3D?line=0'>1</a>\u001b[0m \u001b[39m# 查看A数组的类型\u001b[39;00m\n\u001b[1;32m----> <a href='vscode-notebook-cell:/d%3A/source%20code/pythonProject/python1/course_1.5.ipynb#W4sZmlsZQ%3D%3D?line=1'>2</a>\u001b[0m \u001b[39mtype\u001b[39m(A)\n",
      "\u001b[1;31mNameError\u001b[0m: name 'A' is not defined"
     ]
    }
   ],
   "source": [
    "# 查看A数组的类型\n",
    "type(A)"
   ]
  },
  {
   "cell_type": "code",
   "execution_count": null,
   "id": "6a01fff3",
   "metadata": {},
   "outputs": [],
   "source": [
    "# ndarray要求数组内元素类型一致\n",
    "B = np.array([1,'a',3], dtype=int)"
   ]
  },
  {
   "cell_type": "code",
   "execution_count": null,
   "id": "3ac76b51",
   "metadata": {},
   "outputs": [],
   "source": [
    "# 自动转换为字符\n",
    "B = np.array([1,'a',3])\n",
    "B"
   ]
  },
  {
   "cell_type": "code",
   "execution_count": null,
   "id": "a6f1573a",
   "metadata": {},
   "outputs": [],
   "source": [
    "B[1] = float(1.23)\n",
    "type(B[1])"
   ]
  },
  {
   "cell_type": "code",
   "execution_count": null,
   "id": "f3a19089",
   "metadata": {},
   "outputs": [],
   "source": [
    "B.dtype"
   ]
  },
  {
   "cell_type": "markdown",
   "id": "8e83c3ab",
   "metadata": {},
   "source": [
    "### 1.1 创建数组"
   ]
  },
  {
   "cell_type": "code",
   "execution_count": null,
   "id": "f9a7d46a",
   "metadata": {},
   "outputs": [],
   "source": [
    "# 列表创建\n",
    "np.asarray([1,2,3])"
   ]
  },
  {
   "cell_type": "code",
   "execution_count": null,
   "id": "145f7d82",
   "metadata": {},
   "outputs": [],
   "source": [
    "# 元组创建\n",
    "np.asarray((1,2,3))"
   ]
  },
  {
   "cell_type": "code",
   "execution_count": null,
   "id": "cebc7b9b",
   "metadata": {
    "scrolled": true
   },
   "outputs": [],
   "source": [
    "np.arange(1,10,3)"
   ]
  },
  {
   "cell_type": "code",
   "execution_count": null,
   "id": "dcc5e906",
   "metadata": {
    "scrolled": true
   },
   "outputs": [],
   "source": [
    "np.linspace(1,10,3)"
   ]
  },
  {
   "cell_type": "code",
   "execution_count": null,
   "id": "d36b5f6e",
   "metadata": {},
   "outputs": [],
   "source": [
    "np.zeros(3,4)"
   ]
  },
  {
   "cell_type": "code",
   "execution_count": null,
   "id": "5045072b",
   "metadata": {},
   "outputs": [],
   "source": [
    "np.ones((3,4))"
   ]
  },
  {
   "cell_type": "code",
   "execution_count": null,
   "id": "1b571a13",
   "metadata": {},
   "outputs": [],
   "source": [
    "np.eye(3)"
   ]
  },
  {
   "cell_type": "code",
   "execution_count": null,
   "id": "be7079e7",
   "metadata": {},
   "outputs": [],
   "source": [
    "np.random.randn?"
   ]
  },
  {
   "cell_type": "code",
   "execution_count": null,
   "id": "84e01111",
   "metadata": {},
   "outputs": [],
   "source": [
    "X = np.random.randn(3,4)\n",
    "X"
   ]
  },
  {
   "cell_type": "code",
   "execution_count": null,
   "id": "e80350a1",
   "metadata": {},
   "outputs": [],
   "source": [
    "np.random.randint(1,100,20)"
   ]
  },
  {
   "cell_type": "code",
   "execution_count": null,
   "id": "a1abb1a4",
   "metadata": {},
   "outputs": [],
   "source": [
    "np.random.rand(3,4)"
   ]
  },
  {
   "cell_type": "markdown",
   "id": "2aff2957",
   "metadata": {},
   "source": [
    "### 1.2 数组属性"
   ]
  },
  {
   "cell_type": "code",
   "execution_count": null,
   "id": "18746a8b",
   "metadata": {},
   "outputs": [],
   "source": [
    "X.ndim"
   ]
  },
  {
   "cell_type": "code",
   "execution_count": null,
   "id": "de767136",
   "metadata": {},
   "outputs": [],
   "source": [
    "X.shape"
   ]
  },
  {
   "cell_type": "code",
   "execution_count": null,
   "id": "534150e4",
   "metadata": {},
   "outputs": [],
   "source": [
    "X.size"
   ]
  },
  {
   "cell_type": "code",
   "execution_count": null,
   "id": "61b038d2",
   "metadata": {},
   "outputs": [],
   "source": [
    "X.T"
   ]
  },
  {
   "cell_type": "code",
   "execution_count": null,
   "id": "8a57dad2",
   "metadata": {},
   "outputs": [],
   "source": [
    "X.dtype"
   ]
  },
  {
   "cell_type": "markdown",
   "id": "9c024120",
   "metadata": {},
   "source": [
    "### 1.3 数组形状与方法"
   ]
  },
  {
   "cell_type": "code",
   "execution_count": null,
   "id": "39e6c49c",
   "metadata": {},
   "outputs": [],
   "source": [
    "A.ndim"
   ]
  },
  {
   "cell_type": "code",
   "execution_count": null,
   "id": "ca93bdb5",
   "metadata": {},
   "outputs": [],
   "source": [
    "A.shape"
   ]
  },
  {
   "cell_type": "code",
   "execution_count": null,
   "id": "13567884",
   "metadata": {},
   "outputs": [],
   "source": [
    "Y = A[:,np.newaxis,np.newaxis]\n",
    "Y"
   ]
  },
  {
   "cell_type": "code",
   "execution_count": null,
   "id": "509081e9",
   "metadata": {},
   "outputs": [],
   "source": [
    "Y.shape"
   ]
  },
  {
   "cell_type": "code",
   "execution_count": null,
   "id": "543532fc",
   "metadata": {},
   "outputs": [],
   "source": [
    "B = np.array([3,5,4,6,8,1,9,2])\n",
    "np.sort(B)"
   ]
  },
  {
   "cell_type": "code",
   "execution_count": null,
   "id": "ce3fe728",
   "metadata": {},
   "outputs": [],
   "source": [
    "np.argsort(B)"
   ]
  },
  {
   "cell_type": "code",
   "execution_count": null,
   "id": "f513110b",
   "metadata": {},
   "outputs": [],
   "source": [
    "np.max(B)"
   ]
  },
  {
   "cell_type": "code",
   "execution_count": null,
   "id": "00e4fd8d",
   "metadata": {},
   "outputs": [],
   "source": [
    "# Q：np.argmax(B)\n",
    "np.argmax(B)"
   ]
  },
  {
   "cell_type": "code",
   "execution_count": null,
   "id": "0799d8e5",
   "metadata": {},
   "outputs": [],
   "source": [
    "# Q：np.argmin(B)\n",
    "np.argmin(B)"
   ]
  },
  {
   "cell_type": "code",
   "execution_count": null,
   "id": "df1716ce",
   "metadata": {},
   "outputs": [],
   "source": [
    "# 多维数组变为一维\n",
    "print(X.shape)\n",
    "C = np.ravel(X)\n",
    "print(C.shape)\n",
    "C"
   ]
  },
  {
   "cell_type": "markdown",
   "id": "d305715b",
   "metadata": {},
   "source": [
    "### 1.4 数组运算"
   ]
  },
  {
   "cell_type": "markdown",
   "id": "30d0c70e",
   "metadata": {},
   "source": [
    "#### 1.4.1 一般运算"
   ]
  },
  {
   "cell_type": "code",
   "execution_count": null,
   "id": "c5e788d6",
   "metadata": {},
   "outputs": [],
   "source": [
    "A ** 2 "
   ]
  },
  {
   "cell_type": "code",
   "execution_count": null,
   "id": "055dc5dd",
   "metadata": {},
   "outputs": [],
   "source": [
    "A + np.linspace(1,5,3)"
   ]
  },
  {
   "cell_type": "code",
   "execution_count": null,
   "id": "a6a750ba",
   "metadata": {},
   "outputs": [],
   "source": [
    "s = np.log(A)"
   ]
  },
  {
   "cell_type": "code",
   "execution_count": null,
   "id": "386588d5",
   "metadata": {},
   "outputs": [],
   "source": [
    "np.diag(A)"
   ]
  },
  {
   "cell_type": "code",
   "execution_count": null,
   "id": "5228d274",
   "metadata": {},
   "outputs": [],
   "source": [
    "# np.dot：矩阵运算\n",
    "# np.trace：返回矩阵对角线之和"
   ]
  },
  {
   "cell_type": "code",
   "execution_count": null,
   "id": "20d65a36",
   "metadata": {},
   "outputs": [],
   "source": [
    "# 改变矩阵形状\n",
    "# method 1\n",
    "A.reshape(1,3)\n",
    "# method 2\n",
    "np.reshape(A,(3,1))"
   ]
  },
  {
   "cell_type": "code",
   "execution_count": null,
   "id": "3bfefb5a",
   "metadata": {},
   "outputs": [],
   "source": [
    "# QS：np.arange(9).reshape(3,3) = ？\n",
    "lamda, vector = np.linalg.eig(np.arange(9).reshape(3,3))\n",
    "print(\"特征值为：\",lamda)\n",
    "print(\"特征向量为：\",vector)"
   ]
  },
  {
   "cell_type": "markdown",
   "id": "746dc041",
   "metadata": {},
   "source": [
    "#### 1.4.2 索引与切片"
   ]
  },
  {
   "cell_type": "code",
   "execution_count": null,
   "id": "17494a8b",
   "metadata": {},
   "outputs": [],
   "source": [
    "arr = np.arange(25).reshape(5,5)\n",
    "arr"
   ]
  },
  {
   "cell_type": "code",
   "execution_count": null,
   "id": "c706b159",
   "metadata": {},
   "outputs": [],
   "source": [
    "arr[3,4]"
   ]
  },
  {
   "cell_type": "code",
   "execution_count": null,
   "id": "06536cbe",
   "metadata": {},
   "outputs": [],
   "source": [
    "arr[:,2]"
   ]
  },
  {
   "cell_type": "code",
   "execution_count": null,
   "id": "a3d2e118",
   "metadata": {},
   "outputs": [],
   "source": [
    "arr"
   ]
  },
  {
   "cell_type": "code",
   "execution_count": null,
   "id": "d2ce3dfa",
   "metadata": {},
   "outputs": [],
   "source": [
    "arr[[1,3],-3:-1]"
   ]
  },
  {
   "cell_type": "code",
   "execution_count": null,
   "id": "0965a65a",
   "metadata": {},
   "outputs": [],
   "source": [
    "# 布尔值索引\n",
    "arr[[False, True, True, False, False], :]"
   ]
  },
  {
   "cell_type": "markdown",
   "id": "0b17db2b",
   "metadata": {},
   "source": [
    "#### 1.4.3 广播机制"
   ]
  },
  {
   "cell_type": "code",
   "execution_count": null,
   "id": "9d1a5c2a",
   "metadata": {},
   "outputs": [],
   "source": [
    "a1 = np.random.randint(2,5,(5,2))\n",
    "a2 = np.random.randint(3,10,(1,2))"
   ]
  },
  {
   "cell_type": "code",
   "execution_count": null,
   "id": "20972670",
   "metadata": {
    "scrolled": true
   },
   "outputs": [],
   "source": [
    "a1"
   ]
  },
  {
   "cell_type": "code",
   "execution_count": null,
   "id": "9eeb77d2",
   "metadata": {
    "scrolled": true
   },
   "outputs": [],
   "source": [
    "a2"
   ]
  },
  {
   "cell_type": "code",
   "execution_count": null,
   "id": "edc5fa21",
   "metadata": {
    "scrolled": true
   },
   "outputs": [],
   "source": [
    "a1+a2"
   ]
  },
  {
   "cell_type": "markdown",
   "id": "b2eb513b",
   "metadata": {},
   "source": [
    "## 2. Pandas"
   ]
  },
  {
   "cell_type": "markdown",
   "id": "89bf2636",
   "metadata": {},
   "source": [
    "#### 2.1 Seires数据"
   ]
  },
  {
   "cell_type": "code",
   "execution_count": null,
   "id": "d16df830",
   "metadata": {},
   "outputs": [],
   "source": [
    "import pandas as pd\n",
    "import numpy as np"
   ]
  },
  {
   "cell_type": "code",
   "execution_count": null,
   "id": "dbd46fac",
   "metadata": {},
   "outputs": [],
   "source": [
    "s1 = pd.Series(np.random.randn(4), index=['a','b','c','d'])\n",
    "s1"
   ]
  },
  {
   "cell_type": "code",
   "execution_count": null,
   "id": "03f87d56",
   "metadata": {},
   "outputs": [],
   "source": [
    "# 查看值\n",
    "s1.values"
   ]
  },
  {
   "cell_type": "code",
   "execution_count": null,
   "id": "378884d7",
   "metadata": {},
   "outputs": [],
   "source": [
    "# 查看索引\n",
    "s1.index"
   ]
  },
  {
   "cell_type": "code",
   "execution_count": null,
   "id": "92909597",
   "metadata": {},
   "outputs": [],
   "source": [
    "dict1 = {'a':1,'b':2,'c':3,'d':4}\n",
    "dict1"
   ]
  },
  {
   "cell_type": "code",
   "execution_count": null,
   "id": "1c8f6492",
   "metadata": {},
   "outputs": [],
   "source": [
    "# 字典不能切片\n",
    "dict1[:]"
   ]
  },
  {
   "cell_type": "code",
   "execution_count": null,
   "id": "5a3ae691",
   "metadata": {},
   "outputs": [],
   "source": [
    "# 索引与切片\n",
    "s1['a']\n",
    "s1[1:]\n",
    "s1['a':'c']"
   ]
  },
  {
   "cell_type": "code",
   "execution_count": null,
   "id": "22de78af",
   "metadata": {},
   "outputs": [],
   "source": [
    "tmp = pd.Series(dict1)\n",
    "tmp"
   ]
  },
  {
   "cell_type": "code",
   "execution_count": null,
   "id": "e3e5e8fc",
   "metadata": {},
   "outputs": [],
   "source": [
    "dict1 = dict(tmp)\n",
    "dict1"
   ]
  },
  {
   "cell_type": "code",
   "execution_count": null,
   "id": "22b9979d",
   "metadata": {
    "scrolled": true
   },
   "outputs": [],
   "source": [
    "# 四则运算\n",
    "s1 + s1"
   ]
  },
  {
   "cell_type": "code",
   "execution_count": null,
   "id": "14eafbd3",
   "metadata": {},
   "outputs": [],
   "source": [
    "# 四则运算\n",
    "s1 * s1"
   ]
  },
  {
   "cell_type": "code",
   "execution_count": null,
   "id": "e630d56a",
   "metadata": {},
   "outputs": [],
   "source": [
    "# 排序\n",
    "s1.sort_values()"
   ]
  },
  {
   "cell_type": "code",
   "execution_count": null,
   "id": "1e8fdd06",
   "metadata": {},
   "outputs": [],
   "source": [
    "# 最大值？\n",
    "print(s1.max())\n",
    "# 最小值？\n",
    "s1.min()\n",
    "# 平均数？\n",
    "s1.mean()"
   ]
  },
  {
   "cell_type": "markdown",
   "id": "a42d2182",
   "metadata": {},
   "source": [
    "#### 2.2 Dataframe数据"
   ]
  },
  {
   "cell_type": "code",
   "execution_count": null,
   "id": "62895892",
   "metadata": {},
   "outputs": [],
   "source": [
    "dict2 = {'one': s1 * s1, 'two':s1 + s1}\n",
    "dict2"
   ]
  },
  {
   "cell_type": "code",
   "execution_count": null,
   "id": "9fcbcc54",
   "metadata": {},
   "outputs": [],
   "source": [
    "df = pd.DataFrame(dict2)\n",
    "df"
   ]
  },
  {
   "cell_type": "code",
   "execution_count": null,
   "id": "5156186a",
   "metadata": {},
   "outputs": [],
   "source": [
    "df.index = ['w', 'x', 'y', 'z']"
   ]
  },
  {
   "cell_type": "code",
   "execution_count": null,
   "id": "0786e4ec",
   "metadata": {},
   "outputs": [],
   "source": [
    "df"
   ]
  },
  {
   "cell_type": "code",
   "execution_count": null,
   "id": "ca5ac669",
   "metadata": {},
   "outputs": [],
   "source": [
    "# 排序\n",
    "df.sort_values(by='two')"
   ]
  },
  {
   "cell_type": "code",
   "execution_count": null,
   "id": "72ce2afe",
   "metadata": {},
   "outputs": [],
   "source": [
    "# 通过列表创建？\n",
    "pd.DataFrame([[1,2,3],[2,3,4]], columns=['one', 'two', 'three'])"
   ]
  },
  {
   "cell_type": "code",
   "execution_count": null,
   "id": "a745a0b8",
   "metadata": {},
   "outputs": [],
   "source": [
    "# 通过数组创建？\n",
    "pd.DataFrame(np.arange(6).reshape(2,3), columns=['one', 'two', 'three'])"
   ]
  },
  {
   "cell_type": "code",
   "execution_count": null,
   "id": "d2831a84",
   "metadata": {},
   "outputs": [],
   "source": [
    "# 列索引\n",
    "df['one']\n",
    "# 值索引\n",
    "df['one']['w']"
   ]
  },
  {
   "cell_type": "code",
   "execution_count": null,
   "id": "5d3cee35",
   "metadata": {},
   "outputs": [],
   "source": [
    "# 不能通过df['？？？']进行行索引\n",
    "df['w']"
   ]
  },
  {
   "cell_type": "code",
   "execution_count": null,
   "id": "a9a74cec",
   "metadata": {},
   "outputs": [],
   "source": [
    "# df.ix和df.xs已在最新pandas版本替换为iloc和loc\n",
    "# iloc基于行号和列号，loc基于行标签和列标签\n",
    "df.iloc[1:,1]\n",
    "df.loc['w':,'one']"
   ]
  },
  {
   "cell_type": "code",
   "execution_count": null,
   "id": "7aa4eb00",
   "metadata": {
    "scrolled": true
   },
   "outputs": [],
   "source": [
    "# 查看数据类型\n",
    "df.iloc[1:,1].dtype"
   ]
  },
  {
   "cell_type": "markdown",
   "id": "ac6b2e42",
   "metadata": {},
   "source": [
    "# 作图和可视化"
   ]
  },
  {
   "cell_type": "markdown",
   "id": "a2c81720",
   "metadata": {},
   "source": [
    "### plot()函数"
   ]
  },
  {
   "cell_type": "code",
   "execution_count": null,
   "id": "e0fec277",
   "metadata": {},
   "outputs": [],
   "source": [
    "# 导入matplotlib绘图库\n",
    "import numpy as np\n",
    "import matplotlib.pyplot as plt\n",
    "from matplotlib import pyplot as plt\n",
    "import numpy.linalg as la"
   ]
  },
  {
   "cell_type": "markdown",
   "id": "ec466b23",
   "metadata": {},
   "source": [
    "-30，30区间等间距的数组（数组大小是100个元素），y是x的正弦函数，线性为虚线型，颜色为绿色，点的形状为星型。"
   ]
  },
  {
   "cell_type": "code",
   "execution_count": null,
   "id": "aaedc43b",
   "metadata": {},
   "outputs": [],
   "source": [
    "import matplotlib.pyplot as plt\n",
    "import numpy as np\n",
    "x = np.linspace(-30,30,100)\n",
    "y = np.sin(x)\n",
    "plt.show()\n",
    "plt.plot(x,y,'g-*')"
   ]
  },
  {
   "cell_type": "code",
   "execution_count": null,
   "id": "012b67fe",
   "metadata": {},
   "outputs": [],
   "source": [
    "x = np.linspace(-10, 10, 50)\n",
    "y = np.power(x,2)\n",
    "plt.show()\n",
    "plt.plot(x,y, linestyle='-',color='r',marker='o')\n",
    "# plt.plot(x,y, '.-b')"
   ]
  },
  {
   "cell_type": "markdown",
   "id": "a36b7263",
   "metadata": {},
   "source": [
    "练习：x取值范围：-20至20区间，等间距的取100个数；y的取值为x的3次方；绘制x和y的曲线，线性虚线，颜色为绿色，标点形状为三角形。"
   ]
  },
  {
   "cell_type": "code",
   "execution_count": null,
   "id": "4df27c68",
   "metadata": {},
   "outputs": [],
   "source": [
    "x = np.linspace(-20,20,100)\n",
    "y = np.power(x,3)\n",
    "plt.plot(x,y,'g-.^')"
   ]
  },
  {
   "cell_type": "code",
   "execution_count": null,
   "id": "83600948",
   "metadata": {},
   "outputs": [],
   "source": [
    "x = np.linspace(-20,20,100)"
   ]
  },
  {
   "cell_type": "code",
   "execution_count": null,
   "id": "967b0233",
   "metadata": {},
   "outputs": [],
   "source": [
    "y = np.power(x,3)"
   ]
  },
  {
   "cell_type": "code",
   "execution_count": null,
   "id": "15dc3d45",
   "metadata": {},
   "outputs": [],
   "source": [
    "plt.show()"
   ]
  },
  {
   "cell_type": "code",
   "execution_count": null,
   "id": "a63fd2f0",
   "metadata": {},
   "outputs": [],
   "source": [
    "plt.plot(x,y,linestyle = '-',color = 'red',marker = '^')"
   ]
  },
  {
   "cell_type": "markdown",
   "id": "3cda27a2",
   "metadata": {},
   "source": [
    "### plot()函数属性设置"
   ]
  },
  {
   "cell_type": "code",
   "execution_count": null,
   "id": "5fd0a731",
   "metadata": {},
   "outputs": [],
   "source": [
    "# 增加标题、图例、轴标签等\n",
    "x = np.linspace(-1,1,1000)\n",
    "y1 = np.power(x ,2)\n",
    "y2 = np.power(x, 3)\n",
    "plt.plot(x,y1,'b-',x,y2,'g-.')\n",
    "plt.xlabel('area of the house')\n",
    "plt.ylabel('price')\n",
    "plt.title('city house pirce')\n",
    "plt.legend(('dujiangyan','longquanyi'),loc='upper right')"
   ]
  },
  {
   "cell_type": "markdown",
   "id": "0ab8d6ab",
   "metadata": {},
   "source": [
    "练习：x取值区间-2至3区间，等间距的取200个数，生成y1，y2,y3,其中y1是x的平方，y2是x的余弦值，y3是x的绝对值，y1、y2的线性为直线型，y3的线型为虚线，颜色自定，点形状自定。图标题“excercise”，x轴标签“x value”，y轴标签“y value”，图例自定名称。"
   ]
  },
  {
   "cell_type": "code",
   "execution_count": null,
   "id": "087ad8a8",
   "metadata": {},
   "outputs": [],
   "source": [
    "plt.legend?"
   ]
  },
  {
   "cell_type": "code",
   "execution_count": null,
   "id": "6d7a0b88",
   "metadata": {},
   "outputs": [],
   "source": [
    "import matplotlib.pyplot as plt\n",
    "import numpy as np\n",
    "x = np.linspace(-2,3,200)\n",
    "y1 = np.power(x,2)\n",
    "y2 = np.cos(x)\n",
    "y3 = np.abs(x)\n",
    "plt.show()\n",
    "plt.plot(x,y1,'r-',x,y2,'b-',x,y3,'y-.')\n",
    "plt.title('excercise')\n",
    "plt.xlabel('x value')\n",
    "plt.ylabel('y value')\n",
    "plt.legend(['$x^2$','$cos(x)$','$|x|$'],loc='upper right')"
   ]
  },
  {
   "cell_type": "markdown",
   "id": "0b145d61",
   "metadata": {},
   "source": [
    "### 绘制散点图"
   ]
  },
  {
   "cell_type": "code",
   "execution_count": null,
   "id": "07d87fbf",
   "metadata": {},
   "outputs": [],
   "source": [
    "x = np.arange(-50,50,2)\n",
    "y = x ** 2\n",
    "size = np.linspace(10,90,50)\n",
    "color = ['r', 'g', 'y', 'b', 'y'] * 10\n",
    "plt.scatter(x,y,s=size,c=color)"
   ]
  },
  {
   "cell_type": "code",
   "execution_count": null,
   "id": "6cba1c45",
   "metadata": {},
   "outputs": [],
   "source": [
    "tmp = np.linspace(1,100,50)\n",
    "c = ['r','g','b','y','y']*10"
   ]
  },
  {
   "cell_type": "code",
   "execution_count": null,
   "id": "6d02c659",
   "metadata": {
    "scrolled": true
   },
   "outputs": [],
   "source": [
    "x = np.arange(-50, 50,2)\n",
    "y = x ** 2\n",
    "plt.scatter(x,y,s=tmp,c=c)"
   ]
  },
  {
   "cell_type": "code",
   "execution_count": null,
   "id": "7d7bc685",
   "metadata": {},
   "outputs": [],
   "source": [
    "x = np.arange(-50,50,2)\n",
    "y = x ** 2\n",
    "tmp = np.ones(50)\n",
    "tmp[25] = 20\n",
    "plt.scatter(x,y,s=tmp,c='r')"
   ]
  },
  {
   "cell_type": "markdown",
   "id": "081d2dd6",
   "metadata": {},
   "source": [
    "练习：绘制五个散点，五个点的坐标为(1,5)、（1，1）、（5,1）、（5，5）、（3，3）,前两个点颜色为绿色，中间一个点颜色为黄色，后两个点颜色为红色。五个点的大小分别为：20,30,35,40,80"
   ]
  },
  {
   "cell_type": "code",
   "execution_count": null,
   "id": "dcffa770",
   "metadata": {},
   "outputs": [],
   "source": [
    "import matplotlib.pyplot as plt\n",
    "import numpy as np"
   ]
  },
  {
   "cell_type": "code",
   "execution_count": null,
   "id": "41ad5ad1",
   "metadata": {},
   "outputs": [],
   "source": [
    "x=np.array([1,1,5,5,3])\n",
    "y=np.array([5,1,1,5,3])\n",
    "plt.scatter(x,y,s=[20,30,35,40,80],c=['g','g','y','r','r'])"
   ]
  },
  {
   "cell_type": "code",
   "execution_count": null,
   "id": "2e655de2",
   "metadata": {},
   "outputs": [],
   "source": [
    "import matplotlib.pyplot as plt\n",
    "import numpy as np\n",
    "x = [1,1,5,5,3]\n",
    "y = [5,1,1,5,3]\n",
    "c = ['g','g','y','r','r']\n",
    "s = [10,10,25,35,60]\n",
    "plt.scatter(x,y,s=s,c=c)"
   ]
  },
  {
   "cell_type": "markdown",
   "id": "30c0bc9e",
   "metadata": {},
   "source": [
    "### 绘制一元线性回归模型"
   ]
  },
  {
   "cell_type": "code",
   "execution_count": null,
   "id": "cd830e8b",
   "metadata": {},
   "outputs": [],
   "source": [
    "import numpy.linalg as la\n",
    "import numpy as np\n",
    "import matplotlib.pyplot as plt"
   ]
  },
  {
   "cell_type": "code",
   "execution_count": null,
   "id": "b9b79551",
   "metadata": {},
   "outputs": [],
   "source": [
    "# 设置样本点个数\n",
    "n = 100\n",
    "# 生成随机数数组\n",
    "x = np.random.randn(n,1)\n",
    "# 生成随机误差\n",
    "error = np.random.randn(n,1)*0.4\n",
    "# 利用x和error生成y取值\n",
    "y = 1 + 2*x + error"
   ]
  },
  {
   "cell_type": "code",
   "execution_count": null,
   "id": "08f5a940",
   "metadata": {},
   "outputs": [],
   "source": [
    "plt.plot(x,y,'o')"
   ]
  },
  {
   "cell_type": "code",
   "execution_count": null,
   "id": "cced50f1",
   "metadata": {},
   "outputs": [],
   "source": [
    "# 在x的第一行加入全1数组\n",
    "X = np.hstack((np.ones((n,1)),x))\n",
    "# 运用最小二乘法公式计算beta参数估计值\n",
    "beta = la.inv(X.T.dot(X)).dot(X.T).dot(y)\n",
    "# 打印参数预测值，与真实值进行对比\n",
    "print('参数预测值为：',beta)\n",
    "# 利用beta估计值预测y值\n",
    "yhat = X.dot(beta)"
   ]
  },
  {
   "cell_type": "code",
   "execution_count": null,
   "id": "559f8c88",
   "metadata": {},
   "outputs": [],
   "source": [
    "u = np.linspace(-2,2,1000)\n",
    "fu = beta[0] + beta[1]*u\n",
    "plt.plot(u,fu)\n",
    "plt.scatter(x,y)"
   ]
  },
  {
   "cell_type": "code",
   "execution_count": null,
   "id": "8c778934",
   "metadata": {},
   "outputs": [],
   "source": [
    "beta.shape"
   ]
  },
  {
   "cell_type": "code",
   "execution_count": null,
   "id": "330e3c1a",
   "metadata": {
    "scrolled": true
   },
   "outputs": [],
   "source": [
    "# 绘制真实值散点图\n",
    "plt.scatter(x,y,c='y',marker='o')\n",
    "# 绘制预测值散点图\n",
    "plt.scatter(x,yhat,c='r',marker='o')"
   ]
  },
  {
   "cell_type": "code",
   "execution_count": null,
   "id": "dd199e6d",
   "metadata": {},
   "outputs": [],
   "source": [
    "# 求样本误差总和\n",
    "tmp = y - yhat\n",
    "tmp2 = np.power(tmp,2)\n",
    "np.sum(tmp2)"
   ]
  },
  {
   "cell_type": "code",
   "execution_count": null,
   "id": "d420c7ae",
   "metadata": {},
   "outputs": [],
   "source": [
    "beta1 = np.array([[1],[1]])\n",
    "beta1.shape\n",
    "yhat2 = X.dot(beta1)"
   ]
  },
  {
   "cell_type": "code",
   "execution_count": null,
   "id": "2422fb1c",
   "metadata": {},
   "outputs": [],
   "source": [
    "# 求样本误差总和\n",
    "tmp = y - yhat2\n",
    "tmp2 = np.power(tmp,2)\n",
    "np.sum(tmp2)"
   ]
  },
  {
   "cell_type": "code",
   "execution_count": null,
   "id": "5c9f2599",
   "metadata": {},
   "outputs": [],
   "source": [
    "# 绘制真实样本点散点图\n",
    "plt.scatter(x,y,c='y',marker='o')\n",
    "# 在x坐标轴等间距取100个点\n",
    "u = np.linspace(-3,3,100)\n",
    "# 写出直线回归方程\n",
    "fu = beta[0] + beta[1]*u\n",
    "# 绘制回归模型直线\n",
    "plt.plot(u,fu,'r-')"
   ]
  },
  {
   "cell_type": "markdown",
   "id": "729f0880",
   "metadata": {},
   "source": [
    "### 多项式回归"
   ]
  },
  {
   "cell_type": "code",
   "execution_count": null,
   "id": "d519c431",
   "metadata": {},
   "outputs": [],
   "source": [
    "import numpy as np\n",
    "import matplotlib.pyplot as plt\n",
    "import numpy.linalg as la"
   ]
  },
  {
   "cell_type": "code",
   "execution_count": null,
   "id": "ba34ad0a",
   "metadata": {},
   "outputs": [],
   "source": [
    "x = np.linspace(-3,3,100).reshape(100,-1)\n",
    "y = np.power(x,2) + np.random.randn(100,1)*0.4\n",
    "plt.scatter(x,y)"
   ]
  },
  {
   "cell_type": "code",
   "execution_count": 3,
   "id": "69ab8ef4",
   "metadata": {},
   "outputs": [
    {
     "ename": "NameError",
     "evalue": "name 'x' is not defined",
     "output_type": "error",
     "traceback": [
      "\u001b[1;31m---------------------------------------------------------------------------\u001b[0m",
      "\u001b[1;31mNameError\u001b[0m                                 Traceback (most recent call last)",
      "\u001b[1;32md:\\source code\\pythonProject\\python1\\course_1.5.ipynb 单元格 128\u001b[0m line \u001b[0;36m1\n\u001b[1;32m----> <a href='vscode-notebook-cell:/d%3A/source%20code/pythonProject/python1/course_1.5.ipynb#Y242sZmlsZQ%3D%3D?line=0'>1</a>\u001b[0m x1 \u001b[39m=\u001b[39m x \u001b[39m*\u001b[39m\u001b[39m*\u001b[39m \u001b[39m2\u001b[39m\n\u001b[0;32m      <a href='vscode-notebook-cell:/d%3A/source%20code/pythonProject/python1/course_1.5.ipynb#Y242sZmlsZQ%3D%3D?line=1'>2</a>\u001b[0m X \u001b[39m=\u001b[39m np\u001b[39m.\u001b[39mhstack((np\u001b[39m.\u001b[39mones((\u001b[39m100\u001b[39m,\u001b[39m1\u001b[39m)),x1))\n\u001b[0;32m      <a href='vscode-notebook-cell:/d%3A/source%20code/pythonProject/python1/course_1.5.ipynb#Y242sZmlsZQ%3D%3D?line=2'>3</a>\u001b[0m beta \u001b[39m=\u001b[39m la\u001b[39m.\u001b[39minv(X\u001b[39m.\u001b[39mT\u001b[39m.\u001b[39mdot(X))\u001b[39m.\u001b[39mdot(X\u001b[39m.\u001b[39mT)\u001b[39m.\u001b[39mdot(y)\n",
      "\u001b[1;31mNameError\u001b[0m: name 'x' is not defined"
     ]
    }
   ],
   "source": [
    "x1 = x ** 2\n",
    "X = np.hstack((np.ones((100,1)),x1))\n",
    "beta = la.inv(X.T.dot(X)).dot(X.T).dot(y)"
   ]
  },
  {
   "cell_type": "code",
   "execution_count": null,
   "id": "9138efb2",
   "metadata": {},
   "outputs": [],
   "source": [
    "beta"
   ]
  },
  {
   "cell_type": "code",
   "execution_count": null,
   "id": "19e2f89d",
   "metadata": {
    "scrolled": true
   },
   "outputs": [],
   "source": [
    "u = np.linspace(-3,3,1000)\n",
    "fu = beta[0] + beta[1]*u**2\n",
    "plt.plot(u, fu)\n",
    "plt.scatter(x,y)"
   ]
  },
  {
   "cell_type": "code",
   "execution_count": null,
   "id": "957f95d4",
   "metadata": {},
   "outputs": [],
   "source": [
    "yhat = X.dot(beta)\n",
    "np.sum(np.power((y-yhat),2))"
   ]
  },
  {
   "cell_type": "markdown",
   "id": "4327067e",
   "metadata": {},
   "source": [
    "### 绘制直方图"
   ]
  },
  {
   "cell_type": "markdown",
   "id": "f1097ff2",
   "metadata": {},
   "source": [
    "#### 1.正态分布"
   ]
  },
  {
   "cell_type": "code",
   "execution_count": null,
   "id": "2be355f2",
   "metadata": {},
   "outputs": [],
   "source": [
    "# 以正态分布生成随机分数\n",
    "score = 80 + np.random.randn(10000)*10"
   ]
  },
  {
   "cell_type": "code",
   "execution_count": null,
   "id": "7eb6bf3c",
   "metadata": {},
   "outputs": [],
   "source": [
    "# 绘制直方图\n",
    "x, y, _ = plt.hist(score, bins=100)"
   ]
  },
  {
   "cell_type": "markdown",
   "id": "e13e0e9a",
   "metadata": {},
   "source": [
    "#### 2.均匀分布"
   ]
  },
  {
   "cell_type": "code",
   "execution_count": null,
   "id": "4fef2d8f",
   "metadata": {},
   "outputs": [],
   "source": [
    "# 以均匀分布生成随机分数\n",
    "score = 80 + np.random.rand(100000)"
   ]
  },
  {
   "cell_type": "code",
   "execution_count": null,
   "id": "6d837b7a",
   "metadata": {},
   "outputs": [],
   "source": [
    "# 绘制直方图\n",
    "x, y, _ = plt.hist(score, bins=100)"
   ]
  },
  {
   "cell_type": "code",
   "execution_count": null,
   "id": "d596e0a9",
   "metadata": {},
   "outputs": [],
   "source": []
  }
 ],
 "metadata": {
  "kernelspec": {
   "display_name": "venv",
   "language": "python",
   "name": "python3"
  },
  "language_info": {
   "codemirror_mode": {
    "name": "ipython",
    "version": 3
   },
   "file_extension": ".py",
   "mimetype": "text/x-python",
   "name": "python",
   "nbconvert_exporter": "python",
   "pygments_lexer": "ipython3",
   "version": "3.10.8"
  }
 },
 "nbformat": 4,
 "nbformat_minor": 5
}
