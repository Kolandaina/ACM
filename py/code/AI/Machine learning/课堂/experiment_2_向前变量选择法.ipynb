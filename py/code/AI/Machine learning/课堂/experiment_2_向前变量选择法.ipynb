{
 "cells": [
  {
   "cell_type": "markdown",
   "id": "0659bfbb",
   "metadata": {},
   "source": [
    "# 预备知识"
   ]
  },
  {
   "cell_type": "code",
   "execution_count": null,
   "id": "dff0f4f3",
   "metadata": {},
   "outputs": [],
   "source": [
    "# 去除warning警报\n",
    "import warnings\n",
    "warnings.filterwarnings('ignore')"
   ]
  },
  {
   "cell_type": "code",
   "execution_count": null,
   "id": "1674f81e",
   "metadata": {},
   "outputs": [],
   "source": [
    "# 导入数据集方法\n",
    "from sklearn.datasets import load_boston"
   ]
  },
  {
   "cell_type": "code",
   "execution_count": null,
   "id": "68ff7735",
   "metadata": {},
   "outputs": [],
   "source": [
    "# 加载数据\n",
    "boston = load_boston()"
   ]
  },
  {
   "cell_type": "code",
   "execution_count": null,
   "id": "0379d176",
   "metadata": {},
   "outputs": [],
   "source": [
    "# 查看数据结构\n",
    "boston.keys()"
   ]
  },
  {
   "cell_type": "code",
   "execution_count": null,
   "id": "7fa4cfd6",
   "metadata": {},
   "outputs": [],
   "source": [
    "# 获取数据特征矩阵\n",
    "X = boston['data']\n",
    "# 获取数据响应变量\n",
    "y = boston['target']"
   ]
  },
  {
   "cell_type": "code",
   "execution_count": null,
   "id": "ab1b21ab",
   "metadata": {},
   "outputs": [],
   "source": [
    "# 导入模型\n",
    "from sklearn.linear_model import LinearRegression"
   ]
  },
  {
   "cell_type": "code",
   "execution_count": null,
   "id": "1f7a358c",
   "metadata": {},
   "outputs": [],
   "source": [
    "# 创建模型\n",
    "lr = LinearRegression()"
   ]
  },
  {
   "cell_type": "code",
   "execution_count": null,
   "id": "3b28c147",
   "metadata": {},
   "outputs": [],
   "source": [
    "# 模型训练\n",
    "lr.fit(X, y)"
   ]
  },
  {
   "cell_type": "code",
   "execution_count": null,
   "id": "ef975ea6",
   "metadata": {},
   "outputs": [],
   "source": [
    "# 模型预测\n",
    "yhat = lr.predict(X)"
   ]
  },
  {
   "cell_type": "code",
   "execution_count": null,
   "id": "2858d1fe",
   "metadata": {},
   "outputs": [],
   "source": [
    "# 模型评估\n",
    "from sklearn.metrics import mean_squared_error, r2_score\n",
    "# 计算均方误差并打印\n",
    "MSE = mean_squared_error(y, yhat)\n",
    "print(MSE)\n",
    "# 计算均方根误差并打印\n",
    "RMSE = mean_squared_error(y, yhat)**0.5\n",
    "print(RMSE)\n",
    "# 计算均方误差并打印\n",
    "r_2 = r2_score(y, yhat)\n",
    "print(r_2)"
   ]
  },
  {
   "cell_type": "markdown",
   "id": "f24e034a",
   "metadata": {},
   "source": [
    "# 变量选择法"
   ]
  },
  {
   "cell_type": "markdown",
   "id": "827f1a6f",
   "metadata": {},
   "source": [
    "使用sklearn和mlxtend包进行向前变量选择和向后变量选择，如未安装mlxtend包，请在cmd命令行安装（pip install mlxtend）"
   ]
  },
  {
   "cell_type": "markdown",
   "id": "1e94e6f5",
   "metadata": {},
   "source": [
    "### 0.导入忽略warning的方法"
   ]
  },
  {
   "cell_type": "code",
   "execution_count": null,
   "id": "c197c81c",
   "metadata": {},
   "outputs": [],
   "source": [
    "# 去除warning警报\n",
    "import warnings \n",
    "warnings.filterwarnings(\"ignore\")"
   ]
  },
  {
   "cell_type": "markdown",
   "id": "af8d0f1d",
   "metadata": {},
   "source": [
    "### 1.导入数据并拆分为训练集和测试集"
   ]
  },
  {
   "cell_type": "code",
   "execution_count": null,
   "id": "1e05d96d",
   "metadata": {},
   "outputs": [],
   "source": [
    "# 导入加载数据集的方法\n",
    "from sklearn.datasets import load_boston\n",
    "# 导入数据集拆分工具\n",
    "from sklearn.model_selection import train_test_split"
   ]
  },
  {
   "cell_type": "code",
   "execution_count": null,
   "id": "12cd5402",
   "metadata": {},
   "outputs": [],
   "source": [
    "# 加载数据集\n",
    "boston = load_boston()"
   ]
  },
  {
   "cell_type": "code",
   "execution_count": null,
   "id": "c34cb9f3",
   "metadata": {},
   "outputs": [],
   "source": [
    "# 查看数据集结构\n",
    "boston.keys()"
   ]
  },
  {
   "cell_type": "code",
   "execution_count": null,
   "id": "396d31b5",
   "metadata": {},
   "outputs": [],
   "source": [
    "# 导入特征数据\n",
    "X = boston.data\n",
    "# 导入响应变量\n",
    "y = boston.target"
   ]
  },
  {
   "cell_type": "code",
   "execution_count": null,
   "id": "1ef9c8af",
   "metadata": {},
   "outputs": [],
   "source": [
    "# 查看数据集形状\n",
    "print(\"特征数据形状：\",X.shape)\n",
    "print(\"响应变量形状：\",y.shape)"
   ]
  },
  {
   "cell_type": "code",
   "execution_count": null,
   "id": "8ae784d7",
   "metadata": {},
   "outputs": [],
   "source": [
    "# 按照7：3的比例切割数据集为训练集和测试集\n",
    "X_train, X_test, y_train, y_test = train_test_split(X, y,train_size=0.7)\n",
    "# 查看训练集形状\n",
    "print(\"训练集特征维度\", X_train.shape)\n",
    "print(\"训练集响应变量维度\", y_train.shape)\n",
    "print(\"测试集特征维度\", X_test.shape)\n",
    "print(\"测试集响应变量维度\", y_test.shape)"
   ]
  },
  {
   "cell_type": "markdown",
   "id": "f2d5bde2",
   "metadata": {},
   "source": [
    "### 1.1查看特征与响应变量相关性"
   ]
  },
  {
   "cell_type": "code",
   "execution_count": null,
   "id": "61a279e3",
   "metadata": {},
   "outputs": [],
   "source": [
    "import numpy as np\n",
    "import matplotlib.pyplot as plt\n",
    "# 将响应变量和特征拼接在一起\n",
    "full = np.hstack((y.reshape(-1,1),X))\n",
    "# 利用相关性函数计算响应变量与特征相关性\n",
    "corr = np.corrcoef(full.T)[0,:]\n",
    "# 利用柱状图展示相关性\n",
    "plt.bar(np.arange(0,14),corr)"
   ]
  },
  {
   "cell_type": "markdown",
   "id": "8840d205",
   "metadata": {},
   "source": [
    "### 2.线性回归模型"
   ]
  },
  {
   "cell_type": "markdown",
   "id": "1ee8cc13",
   "metadata": {},
   "source": [
    "### 2.1模型选择"
   ]
  },
  {
   "cell_type": "code",
   "execution_count": null,
   "id": "73ba0c0b",
   "metadata": {},
   "outputs": [],
   "source": [
    "# 导入线性回归模型\n",
    "from sklearn.linear_model import LinearRegression"
   ]
  },
  {
   "cell_type": "code",
   "execution_count": null,
   "id": "e613ed80",
   "metadata": {},
   "outputs": [],
   "source": [
    "# 创建线性回归模型\n",
    "lr = LinearRegression()"
   ]
  },
  {
   "cell_type": "markdown",
   "id": "16a363d9",
   "metadata": {},
   "source": [
    "### 2.2模型训练"
   ]
  },
  {
   "cell_type": "code",
   "execution_count": null,
   "id": "1b4910e5",
   "metadata": {},
   "outputs": [],
   "source": [
    "# 使用线性回归模型拟合训练集数据\n",
    "lr.fit(X_train, y_train)"
   ]
  },
  {
   "cell_type": "markdown",
   "id": "1889c5d1",
   "metadata": {},
   "source": [
    "### 2.3模型预测"
   ]
  },
  {
   "cell_type": "code",
   "execution_count": null,
   "id": "c720d593",
   "metadata": {},
   "outputs": [],
   "source": [
    "# 使用拟合之后的模型预测数据\n",
    "yhat = lr.predict(X_test)"
   ]
  },
  {
   "cell_type": "markdown",
   "id": "55ef040b",
   "metadata": {},
   "source": [
    "### 2.4模型评估(使用测试集)"
   ]
  },
  {
   "cell_type": "code",
   "execution_count": null,
   "id": "069f807f",
   "metadata": {},
   "outputs": [],
   "source": [
    "# 导入均方误差方法，R方进行模型评估\n",
    "from sklearn.metrics import mean_squared_error, r2_score\n",
    "# 计算模型均方误差\n",
    "MSE = mean_squared_error(y_test, yhat)\n",
    "print(\"模型均方误差\",MSE)\n",
    "# 计算模型均方根误差\n",
    "RMSE = mean_squared_error(y_test, yhat)**0.5\n",
    "print(\"模型均方根误差\",RMSE)\n",
    "# 计算模型R方\n",
    "r_2 = r2_score(y_test, yhat)\n",
    "print(\"模型R方\",r_2)"
   ]
  },
  {
   "cell_type": "markdown",
   "id": "59a4ed09",
   "metadata": {},
   "source": [
    "### 3.向前变量选择法"
   ]
  },
  {
   "cell_type": "code",
   "execution_count": null,
   "id": "bf589f8c",
   "metadata": {},
   "outputs": [],
   "source": [
    "# 导入变量选择法\n",
    "from mlxtend.feature_selection import SequentialFeatureSelector as SFS"
   ]
  },
  {
   "cell_type": "markdown",
   "id": "90356ab7",
   "metadata": {},
   "source": [
    "### 3.1变量(特征)选择"
   ]
  },
  {
   "cell_type": "code",
   "execution_count": null,
   "id": "928871a5",
   "metadata": {},
   "outputs": [],
   "source": [
    "# 创建向前（Stepwise Regression）选择器\n",
    "sfs_forward = SFS(lr,\n",
    "                  k_features=9,\n",
    "                  forward=True,\n",
    "                  scoring='neg_mean_squared_error')"
   ]
  },
  {
   "cell_type": "code",
   "execution_count": null,
   "id": "58543acc",
   "metadata": {
    "scrolled": true
   },
   "outputs": [],
   "source": [
    "# 使用向前选择器拟合训练集数据\n",
    "sfs_forward.fit(X_train, y_train)"
   ]
  },
  {
   "cell_type": "code",
   "execution_count": null,
   "id": "24d21105",
   "metadata": {},
   "outputs": [],
   "source": [
    "# 输出最佳特征组合\n",
    "print('Best feature subset:', sfs_forward.k_feature_idx_)"
   ]
  },
  {
   "cell_type": "code",
   "execution_count": null,
   "id": "6a6dbd60",
   "metadata": {},
   "outputs": [],
   "source": [
    "# 使用向前选择法转换训练集、测试集数据\n",
    "X_sfs_train = sfs_forward.transform(X_train)\n",
    "X_sfs_test = sfs_forward.transform(X_test)\n",
    "# 查看转换后特征形状\n",
    "print(\"向前选择后训练集特征形状：\",X_sfs_train.shape)\n",
    "print(\"向前选择后测试集特征形状：\",X_sfs_test.shape)"
   ]
  },
  {
   "cell_type": "markdown",
   "id": "2b87a30a",
   "metadata": {},
   "source": [
    "### 3.2 模型训练"
   ]
  },
  {
   "cell_type": "code",
   "execution_count": null,
   "id": "eb4cfc71",
   "metadata": {},
   "outputs": [],
   "source": [
    "# 使用转换后数据拟合模型\n",
    "lr.fit(X_sfs_train, y_train)"
   ]
  },
  {
   "cell_type": "markdown",
   "id": "e6008bc4",
   "metadata": {},
   "source": [
    "### 3.3模型预测"
   ]
  },
  {
   "cell_type": "code",
   "execution_count": null,
   "id": "6e97ef84",
   "metadata": {},
   "outputs": [],
   "source": [
    "# 使用拟合之后的模型预测数据\n",
    "yhat = lr.predict(X_sfs_test)"
   ]
  },
  {
   "cell_type": "markdown",
   "id": "513827a7",
   "metadata": {},
   "source": [
    "### 3.4模型评估(使用测试集)"
   ]
  },
  {
   "cell_type": "code",
   "execution_count": null,
   "id": "2f4673d4",
   "metadata": {},
   "outputs": [],
   "source": [
    "# 导入均方误差方法，R方进行模型评估\n",
    "from sklearn.metrics import mean_squared_error, r2_score\n",
    "# 计算模型均方误差\n",
    "MSE = mean_squared_error(y_test, yhat)\n",
    "print(\"模型均方误差\",MSE)\n",
    "# 计算模型均方根误差\n",
    "RMSE = mean_squared_error(y_test, yhat)**0.5\n",
    "print(\"模型均方根误差\",RMSE)\n",
    "# 计算模型R方\n",
    "r_2 = r2_score(y_test, yhat)\n",
    "print(\"模型R方\",r_2)"
   ]
  },
  {
   "cell_type": "markdown",
   "id": "cedd9491",
   "metadata": {},
   "source": [
    "### 4.向后变量选择法"
   ]
  },
  {
   "cell_type": "code",
   "execution_count": null,
   "id": "627d9c48",
   "metadata": {},
   "outputs": [],
   "source": [
    "# 导入变量选择法\n"
   ]
  },
  {
   "cell_type": "markdown",
   "id": "373b0da3",
   "metadata": {},
   "source": [
    "### 4.1变量(特征)选择"
   ]
  },
  {
   "cell_type": "code",
   "execution_count": null,
   "id": "c10cb39b",
   "metadata": {},
   "outputs": [],
   "source": [
    "# 创建向后（Stepwise Regression）选择器\n"
   ]
  },
  {
   "cell_type": "code",
   "execution_count": null,
   "id": "81a8bfe1",
   "metadata": {},
   "outputs": [],
   "source": [
    "# 使用向后选择器拟合训练集数据\n"
   ]
  },
  {
   "cell_type": "code",
   "execution_count": null,
   "id": "1a4ab5b1",
   "metadata": {},
   "outputs": [],
   "source": [
    "# 输出最佳特征组合\n"
   ]
  },
  {
   "cell_type": "code",
   "execution_count": null,
   "id": "cf57e8b2",
   "metadata": {},
   "outputs": [],
   "source": [
    "# 使用向后选择法转换训练集、测试集数据\n",
    "\n",
    "# 查看转换后特征形状\n"
   ]
  },
  {
   "cell_type": "markdown",
   "id": "f4f2f466",
   "metadata": {},
   "source": [
    "### 4.2 模型训练"
   ]
  },
  {
   "cell_type": "code",
   "execution_count": null,
   "id": "187fc7b2",
   "metadata": {},
   "outputs": [],
   "source": [
    "# 使用转换后数据拟合模型\n"
   ]
  },
  {
   "cell_type": "markdown",
   "id": "ff9820c2",
   "metadata": {},
   "source": [
    "### 4.3模型预测"
   ]
  },
  {
   "cell_type": "code",
   "execution_count": null,
   "id": "fd5d8f24",
   "metadata": {},
   "outputs": [],
   "source": [
    "# 使用拟合之后的模型预测数据\n"
   ]
  },
  {
   "cell_type": "markdown",
   "id": "60852ea3",
   "metadata": {},
   "source": [
    "### 4.4模型评估(使用测试集)"
   ]
  },
  {
   "cell_type": "code",
   "execution_count": null,
   "id": "b66b2b2f",
   "metadata": {},
   "outputs": [],
   "source": [
    "# 导入均方误差方法，R方进行模型评估\n",
    "\n",
    "# 计算并打印模型均方误差\n",
    "\n",
    "# 计算并打印模型均方根误差\n",
    "\n",
    "# 计算并打印模型R方\n"
   ]
  }
 ],
 "metadata": {
  "kernelspec": {
   "display_name": "Python 3 (ipykernel)",
   "language": "python",
   "name": "python3"
  },
  "language_info": {
   "codemirror_mode": {
    "name": "ipython",
    "version": 3
   },
   "file_extension": ".py",
   "mimetype": "text/x-python",
   "name": "python",
   "nbconvert_exporter": "python",
   "pygments_lexer": "ipython3",
   "version": "3.11.0"
  }
 },
 "nbformat": 4,
 "nbformat_minor": 5
}
