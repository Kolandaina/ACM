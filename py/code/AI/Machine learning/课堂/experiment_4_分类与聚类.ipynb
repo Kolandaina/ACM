{
 "cells": [
  {
   "cell_type": "markdown",
   "id": "dcce0398",
   "metadata": {},
   "source": [
    "# 分类与聚类"
   ]
  },
  {
   "cell_type": "markdown",
   "id": "309c2c01",
   "metadata": {},
   "source": [
    "### 0.导入忽略warning的方法"
   ]
  },
  {
   "cell_type": "code",
   "execution_count": null,
   "id": "0ff53405",
   "metadata": {},
   "outputs": [],
   "source": [
    "# 去除warning警报\n",
    "import warnings \n",
    "warnings.filterwarnings(\"ignore\")\n",
    "# 导入numpy\n",
    "import numpy as np\n",
    "# 导入数据集\n",
    "from sklearn.datasets import load_breast_cancer\n",
    "# 导入数据集切割方法\n",
    "from sklearn.model_selection import train_test_split\n",
    "# 加载数据\n",
    "bc = load_breast_cancer()\n",
    "# 查看数据描述\n",
    "print(bc.DESCR)\n",
    "# 获取数据特征矩阵和响应变量\n",
    "X = bc.data\n",
    "y = bc.target\n",
    "# 查看数据集特征和响应变量形状\n",
    "print(\"特征矩阵的形状为：\",X.shape)\n",
    "print(\"响应变量的形状为：\",y.shape)\n",
    "# 查看响应变量类别数\n",
    "print(\"响应变量类别为：\",np.unique(y))\n",
    "# 切割数据集为测试集和训练集(8:2)\n",
    "X_train, X_test, y_train, y_test = train_test_split(X, y, train_size=0.8)\n",
    "# 查看训练集和测试集特征和响应变量形状\n",
    "print(\"训练集特征矩阵的形状为：\",X_train.shape)\n",
    "print(\"训练集响应变量的形状为：\",y_train.shape)\n",
    "print(\"测试集特征矩阵的形状为：\",X_test.shape)\n",
    "print(\"测试集响应变量的形状为：\",y_test.shape)"
   ]
  },
  {
   "cell_type": "markdown",
   "id": "2aab79d3",
   "metadata": {},
   "source": [
    "### 2.聚类模型建模"
   ]
  },
  {
   "cell_type": "code",
   "execution_count": null,
   "id": "198cb3d0",
   "metadata": {},
   "outputs": [],
   "source": [
    "# 导入K均值算法\n",
    "from sklearn.cluster import KMeans\n",
    "# 创建K均值模型\n",
    "kmean = KMeans(n_clusters=2)\n",
    "# 使用训练集数据拟合模型\n",
    "kmean.fit(X_train)\n",
    "# 查看聚类中心形状\n",
    "kmean.cluster_centers_.shape\n",
    "# 使用模型预测测试集和训练集数据\n",
    "yhat1 = kmean.predict(X_train)\n",
    "yhat2 = kmean.predict(X_test)\n",
    "# 查看训练集预测效果\n",
    "error1 = np.sum(np.abs(yhat1 - y_train))\n",
    "correct1 = len(y_train) - error1\n",
    "print(\"训练集预测正确的比例为：\", correct1/len(y_train))\n",
    "# 查看测试集预测效果\n",
    "error2 = np.sum(np.abs(yhat2 - y_test))\n",
    "correct2 = len(y_test) - error2\n",
    "print(\"测试集预测正确的比例为：\", correct2/len(y_test))"
   ]
  },
  {
   "cell_type": "markdown",
   "id": "89bbc992",
   "metadata": {},
   "source": [
    "### 3.分类模型建模"
   ]
  },
  {
   "cell_type": "markdown",
   "id": "90b07adb",
   "metadata": {},
   "source": [
    "#### 3.1K近邻模型"
   ]
  },
  {
   "cell_type": "code",
   "execution_count": null,
   "id": "19da9a80",
   "metadata": {},
   "outputs": [],
   "source": [
    "# 导入K近邻算法\n",
    "from sklearn.neighbors import KNeighborsClassifier\n",
    "# 创建K近邻模型\n",
    "knn = KNeighborsClassifier()\n",
    "# 使用训练集数据拟合模型\n",
    "knn.fit(X_train, y_train)\n",
    "# 使用模型预测测试集和训练集数据\n",
    "yhat1 = knn.predict(X_train)\n",
    "yhat2 = knn.predict(X_test)\n",
    "# 查看训练集预测效果\n",
    "error1 = np.sum(np.abs(yhat1 - y_train))\n",
    "correct1 = len(y_train) - error1\n",
    "print(\"训练集预测正确的比例为：\", correct1/len(y_train))\n",
    "# 查看测试集预测效果\n",
    "error2 = np.sum(np.abs(yhat2 - y_test))\n",
    "correct2 = len(y_test) - error2\n",
    "print(\"测试集预测正确的比例为：\", correct2/len(y_test))"
   ]
  },
  {
   "cell_type": "markdown",
   "id": "985d5a01",
   "metadata": {},
   "source": [
    "#### 3.2逻辑回归模型"
   ]
  },
  {
   "cell_type": "code",
   "execution_count": null,
   "id": "f27bf86c",
   "metadata": {},
   "outputs": [],
   "source": [
    "# 导入逻辑回归模型(在linear_model下)\n",
    "from sklearn.linear_model import LogisticRegression\n",
    "# 创建逻辑回归模型logit\n",
    "logit = LogisticRegression()\n",
    "# 使用训练集数据拟合模型\n",
    "logit.fit(X_train, y_train)\n",
    "# 使用模型预测测试集和训练集数据\n",
    "yhat1_logit = logit.predict(X_train)\n",
    "yhat2_logit = logit.predict(X_test)\n",
    "# 查看训练集预测效果\n",
    "correct1_logit = np.sum(yhat1_logit == y_train)\n",
    "accuracy1_logit = correct1_logit / len(y_train)\n",
    "print(\"训练集预测正确的比例为：\", accuracy1_logit)\n",
    "# 查看测试集预测效果\n",
    "correct2_logit = np.sum(yhat2_logit == y_test)\n",
    "accuracy2_logit = correct2_logit / len(y_test)\n",
    "print(\"测试集预测正确的比例为：\", accuracy2_logit)\n",
    "# 查看测试集各样本的预测概率predict_proba方法\n",
    "yhat2_proba_logit = logit.predict_proba(X_test)\n",
    "print(\"测试集各样本的预测概率为：\", yhat2_proba_logit)"
   ]
  },
  {
   "cell_type": "markdown",
   "id": "18a513ce",
   "metadata": {},
   "source": [
    "## 总结"
   ]
  },
  {
   "cell_type": "markdown",
   "id": "f9f0b998",
   "metadata": {},
   "source": [
    "#### 根据聚类结果可判断出模型的最佳K值不是2，根据分类模型可见模型效果较佳。"
   ]
  }
 ],
 "metadata": {
  "kernelspec": {
   "display_name": "Python 3 (ipykernel)",
   "language": "python",
   "name": "python3"
  },
  "language_info": {
   "codemirror_mode": {
    "name": "ipython",
    "version": 3
   },
   "file_extension": ".py",
   "mimetype": "text/x-python",
   "name": "python",
   "nbconvert_exporter": "python",
   "pygments_lexer": "ipython3",
   "version": "3.11.0"
  }
 },
 "nbformat": 4,
 "nbformat_minor": 5
}
