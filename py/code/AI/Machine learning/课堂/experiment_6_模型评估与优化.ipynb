{
 "cells": [
  {
   "cell_type": "markdown",
   "metadata": {},
   "source": [
    "# 实验六：模型评估与优化"
   ]
  },
  {
   "cell_type": "markdown",
   "metadata": {},
   "source": [
    "使用交叉验证法评估模型，使用网格搜索法自动调参。"
   ]
  },
  {
   "cell_type": "markdown",
   "metadata": {},
   "source": [
    "### 1. 数据集探索"
   ]
  },
  {
   "cell_type": "code",
   "execution_count": null,
   "metadata": {},
   "outputs": [],
   "source": [
    "# 导入加载数据集的方法\n",
    "from sklearn.datasets import load_iris\n",
    "# 导入numpy\n",
    "import numpy as np\n",
    "# 加载数据集\n",
    "iris = load_iris()\n",
    "# 查看数据集描述\n",
    "print(iris.DESCR)\n",
    "# 获取数据特征矩阵X和响应变量y\n",
    "X = iris.data\n",
    "y = iris.target\n",
    "print(\"特征矩阵形状为：\",X.shape)\n",
    "print(\"响应变量形状为：\",y.shape)\n",
    "# 导入支持向量机分类器\n",
    "from sklearn.svm import SVC\n",
    "# 创建支持向量机模型\n",
    "svc = SVC()"
   ]
  },
  {
   "cell_type": "markdown",
   "metadata": {},
   "source": [
    "### 2. 构建支持向量机分类模型\n"
   ]
  },
  {
   "cell_type": "markdown",
   "metadata": {},
   "source": []
  },
  {
   "cell_type": "markdown",
   "metadata": {},
   "source": [
    "### 3. 使用支持向量机模型进行8折交叉验证"
   ]
  },
  {
   "cell_type": "code",
   "execution_count": null,
   "metadata": {},
   "outputs": [],
   "source": [
    "# 导入交叉验证数据集切割器\n",
    "from sklearn.model_selection import StratifiedKFold\n",
    "# 创建数据集切割器（8折）\n",
    "kfold = StratifiedKFold(n_splits=8, shuffle=True)\n",
    "# 导入交叉验证评估方法\n",
    "from sklearn.model_selection import cross_val_score\n",
    "# 获取8折交叉验证得分score\n",
    "score = cross_val_score(svc, X, y, cv=kfold)\n",
    "# 打印8折交叉验证得分\n",
    "print('交叉验证得分：{}'.format(score))\n",
    "# 查看8折交叉验证平均准确率\n",
    "print('交叉验证平均分： {:.3f}'.format(score.mean()))\n",
    "# 导入网格搜索器GridSearchCV\n",
    "from sklearn.model_selection import GridSearchCV\n",
    "# 输入需要调整的参数\n",
    "grid = {\"C\":[0.001,0.01,0.1,1,10],'kernel':['linear', 'poly', 'rbf', 'sigmoid']}\n",
    "# 创建网络搜索器\n",
    "grid_search = GridSearchCV(svc, grid, cv=kfold)\n",
    "# 使用网格搜索器搜索最优参数\n",
    "grid_search.fit(X,y)\n",
    "# 查看模型最高得分\n",
    "print(\"模型最高分:{:.3f}\".format(grid_search.score(X,y)))\n",
    "# 查看最佳参数\n",
    "print(\"最优参数:{}\".format(grid_search.best_params_))"
   ]
  },
  {
   "cell_type": "markdown",
   "metadata": {},
   "source": [
    "***扩展：使用最佳C值和kernel建模并计算模型混淆矩阵***"
   ]
  },
  {
   "cell_type": "code",
   "execution_count": null,
   "metadata": {},
   "outputs": [],
   "source": [
    "# 获取最佳svc分类器\n",
    "\n",
    "# 输出模型预测值yhat\n",
    "\n",
    "# 查看模型混淆矩阵\n"
   ]
  },
  {
   "cell_type": "code",
   "execution_count": null,
   "metadata": {},
   "outputs": [],
   "source": []
  }
 ],
 "metadata": {
  "kernelspec": {
   "display_name": "Python 3 (ipykernel)",
   "language": "python",
   "name": "python3"
  },
  "language_info": {
   "codemirror_mode": {
    "name": "ipython",
    "version": 3
   },
   "file_extension": ".py",
   "mimetype": "text/x-python",
   "name": "python",
   "nbconvert_exporter": "python",
   "pygments_lexer": "ipython3",
   "version": "3.11.0"
  },
  "toc": {
   "base_numbering": 1,
   "nav_menu": {},
   "number_sections": false,
   "sideBar": true,
   "skip_h1_title": false,
   "title_cell": "Table of Contents",
   "title_sidebar": "Contents",
   "toc_cell": false,
   "toc_position": {},
   "toc_section_display": true,
   "toc_window_display": true
  },
  "varInspector": {
   "cols": {
    "lenName": 16,
    "lenType": 16,
    "lenVar": 40
   },
   "kernels_config": {
    "python": {
     "delete_cmd_postfix": "",
     "delete_cmd_prefix": "del ",
     "library": "var_list.py",
     "varRefreshCmd": "print(var_dic_list())"
    },
    "r": {
     "delete_cmd_postfix": ") ",
     "delete_cmd_prefix": "rm(",
     "library": "var_list.r",
     "varRefreshCmd": "cat(var_dic_list()) "
    }
   },
   "types_to_exclude": [
    "module",
    "function",
    "builtin_function_or_method",
    "instance",
    "_Feature"
   ],
   "window_display": false
  }
 },
 "nbformat": 4,
 "nbformat_minor": 2
}
